{
 "cells": [
  {
   "cell_type": "markdown",
   "id": "ad958a21",
   "metadata": {},
   "source": [
    "### Selenium 라이브러리\n",
    "- 브라우저를 자동제어하여 크롤링을 자동화 시키는 라이브러리\n",
    "- 동적크롤링을 진행할 때 사용\n",
    "- 반드시 한 번 설치가 필요"
   ]
  },
  {
   "cell_type": "code",
   "execution_count": 22,
   "id": "479a8f4a",
   "metadata": {},
   "outputs": [
    {
     "name": "stdout",
     "output_type": "stream",
     "text": [
      "Requirement already satisfied: selenium in c:\\users\\gjaischool\\anaconda3\\lib\\site-packages (4.11.2)\n",
      "Requirement already satisfied: trio~=0.17 in c:\\users\\gjaischool\\anaconda3\\lib\\site-packages (from selenium) (0.22.2)\n",
      "Requirement already satisfied: trio-websocket~=0.9 in c:\\users\\gjaischool\\anaconda3\\lib\\site-packages (from selenium) (0.10.3)\n",
      "Requirement already satisfied: urllib3[socks]<3,>=1.26 in c:\\users\\gjaischool\\anaconda3\\lib\\site-packages (from selenium) (1.26.14)\n",
      "Requirement already satisfied: certifi>=2021.10.8 in c:\\users\\gjaischool\\anaconda3\\lib\\site-packages (from selenium) (2023.5.7)\n",
      "Requirement already satisfied: cffi>=1.14 in c:\\users\\gjaischool\\anaconda3\\lib\\site-packages (from trio~=0.17->selenium) (1.15.1)\n",
      "Requirement already satisfied: sortedcontainers in c:\\users\\gjaischool\\anaconda3\\lib\\site-packages (from trio~=0.17->selenium) (2.4.0)\n",
      "Requirement already satisfied: idna in c:\\users\\gjaischool\\anaconda3\\lib\\site-packages (from trio~=0.17->selenium) (3.4)\n",
      "Requirement already satisfied: sniffio in c:\\users\\gjaischool\\anaconda3\\lib\\site-packages (from trio~=0.17->selenium) (1.2.0)\n",
      "Requirement already satisfied: outcome in c:\\users\\gjaischool\\anaconda3\\lib\\site-packages (from trio~=0.17->selenium) (1.2.0)\n",
      "Requirement already satisfied: exceptiongroup>=1.0.0rc9 in c:\\users\\gjaischool\\anaconda3\\lib\\site-packages (from trio~=0.17->selenium) (1.1.3)\n",
      "Requirement already satisfied: attrs>=20.1.0 in c:\\users\\gjaischool\\anaconda3\\lib\\site-packages (from trio~=0.17->selenium) (22.1.0)\n",
      "Requirement already satisfied: wsproto>=0.14 in c:\\users\\gjaischool\\anaconda3\\lib\\site-packages (from trio-websocket~=0.9->selenium) (1.2.0)\n",
      "Requirement already satisfied: PySocks!=1.5.7,<2.0,>=1.5.6 in c:\\users\\gjaischool\\anaconda3\\lib\\site-packages (from urllib3[socks]<3,>=1.26->selenium) (1.7.1)\n",
      "Requirement already satisfied: pycparser in c:\\users\\gjaischool\\anaconda3\\lib\\site-packages (from cffi>=1.14->trio~=0.17->selenium) (2.21)\n",
      "Requirement already satisfied: h11<1,>=0.9.0 in c:\\users\\gjaischool\\anaconda3\\lib\\site-packages (from wsproto>=0.14->trio-websocket~=0.9->selenium) (0.14.0)\n"
     ]
    }
   ],
   "source": [
    "# 라이브러리 설치\n",
    "!pip install selenium"
   ]
  },
  {
   "cell_type": "code",
   "execution_count": 23,
   "id": "7a1b9e7f",
   "metadata": {},
   "outputs": [
    {
     "name": "stdout",
     "output_type": "stream",
     "text": [
      "Requirement already satisfied: selenium in c:\\users\\gjaischool\\anaconda3\\lib\\site-packages (4.11.2)\n",
      "Requirement already satisfied: urllib3[socks]<3,>=1.26 in c:\\users\\gjaischool\\anaconda3\\lib\\site-packages (from selenium) (1.26.14)\n",
      "Requirement already satisfied: trio~=0.17 in c:\\users\\gjaischool\\anaconda3\\lib\\site-packages (from selenium) (0.22.2)\n",
      "Requirement already satisfied: certifi>=2021.10.8 in c:\\users\\gjaischool\\anaconda3\\lib\\site-packages (from selenium) (2023.5.7)\n",
      "Requirement already satisfied: trio-websocket~=0.9 in c:\\users\\gjaischool\\anaconda3\\lib\\site-packages (from selenium) (0.10.3)\n",
      "Requirement already satisfied: sortedcontainers in c:\\users\\gjaischool\\anaconda3\\lib\\site-packages (from trio~=0.17->selenium) (2.4.0)\n",
      "Requirement already satisfied: sniffio in c:\\users\\gjaischool\\anaconda3\\lib\\site-packages (from trio~=0.17->selenium) (1.2.0)\n",
      "Requirement already satisfied: attrs>=20.1.0 in c:\\users\\gjaischool\\anaconda3\\lib\\site-packages (from trio~=0.17->selenium) (22.1.0)\n",
      "Requirement already satisfied: outcome in c:\\users\\gjaischool\\anaconda3\\lib\\site-packages (from trio~=0.17->selenium) (1.2.0)\n",
      "Requirement already satisfied: idna in c:\\users\\gjaischool\\anaconda3\\lib\\site-packages (from trio~=0.17->selenium) (3.4)\n",
      "Requirement already satisfied: cffi>=1.14 in c:\\users\\gjaischool\\anaconda3\\lib\\site-packages (from trio~=0.17->selenium) (1.15.1)\n",
      "Requirement already satisfied: exceptiongroup>=1.0.0rc9 in c:\\users\\gjaischool\\anaconda3\\lib\\site-packages (from trio~=0.17->selenium) (1.1.3)\n",
      "Requirement already satisfied: wsproto>=0.14 in c:\\users\\gjaischool\\anaconda3\\lib\\site-packages (from trio-websocket~=0.9->selenium) (1.2.0)\n",
      "Requirement already satisfied: PySocks!=1.5.7,<2.0,>=1.5.6 in c:\\users\\gjaischool\\anaconda3\\lib\\site-packages (from urllib3[socks]<3,>=1.26->selenium) (1.7.1)\n",
      "Requirement already satisfied: pycparser in c:\\users\\gjaischool\\anaconda3\\lib\\site-packages (from cffi>=1.14->trio~=0.17->selenium) (2.21)\n",
      "Requirement already satisfied: h11<1,>=0.9.0 in c:\\users\\gjaischool\\anaconda3\\lib\\site-packages (from wsproto>=0.14->trio-websocket~=0.9->selenium) (0.14.0)\n"
     ]
    }
   ],
   "source": [
    "# 셀레니움 최신버전 업데이트\n",
    "!pip install -U selenium"
   ]
  },
  {
   "cell_type": "code",
   "execution_count": 24,
   "id": "f0857327",
   "metadata": {},
   "outputs": [],
   "source": [
    "# 브라우저의 역할을 해주는 라이브러리\n",
    "from selenium import webdriver as wb\n",
    "# 컴퓨터용 키보드\n",
    "from selenium.webdriver.common.keys import Keys\n",
    "# 선택자의 구분자 역할을 해주는 라이브러리\n",
    "from selenium.webdriver.common.by import By"
   ]
  },
  {
   "cell_type": "code",
   "execution_count": 25,
   "id": "0ebad7a9",
   "metadata": {},
   "outputs": [],
   "source": [
    "# 1. 크롬창을 실행\n",
    "driver = wb.Chrome()"
   ]
  },
  {
   "cell_type": "code",
   "execution_count": 26,
   "id": "feceec74",
   "metadata": {},
   "outputs": [],
   "source": [
    "# 2. 특정 페이지로 이동(요청)\n",
    "driver.get(\"http://www.naver.com\")"
   ]
  },
  {
   "cell_type": "code",
   "execution_count": 27,
   "id": "49c9500d",
   "metadata": {},
   "outputs": [],
   "source": [
    "# 3. 검색창에 검색어를 입력\n",
    "# 3-1 : 검색창의 위치를 알아온다\n",
    "# soup.select(\"#query\") -> request 문법\n",
    "search = driver.find_element(By.ID, \"query\")\n",
    "search.send_keys(\"이강인\")"
   ]
  },
  {
   "cell_type": "code",
   "execution_count": 28,
   "id": "6685cdc0",
   "metadata": {},
   "outputs": [],
   "source": [
    "# enter 보내기\n",
    "# 키보드의 값을 보낼 때는 Keys라이브러리 사용\n",
    "# 주의점 : 대문자로 작성해야 한다 (ENTER, END...)\n",
    "search.send_keys(Keys.ENTER)"
   ]
  },
  {
   "cell_type": "code",
   "execution_count": 29,
   "id": "bde992c4",
   "metadata": {},
   "outputs": [],
   "source": [
    "# 4. 스크롤을 화면 최하단으로 이동\n",
    "# 이유 : 화면 밑에 있는 데이터도 로딩\n",
    "# 화면에 키보드에 있는 END키를 보내주기\n",
    "body = driver.find_element(By.TAG_NAME, \"body\")\n",
    "body.send_keys(Keys.END)"
   ]
  },
  {
   "cell_type": "code",
   "execution_count": 30,
   "id": "8e156d4e",
   "metadata": {},
   "outputs": [],
   "source": [
    "# 5. 페이지 뒤로가기\n",
    "# 뒤로가기 버튼은 html태그가 아님\n",
    "driver.back()"
   ]
  },
  {
   "cell_type": "code",
   "execution_count": 31,
   "id": "b842bb7c",
   "metadata": {},
   "outputs": [],
   "source": [
    "# 6. 다시 한 번 검색창에 새로운 검색어 입력\n",
    "# 화면이 변화면 -> 화면이 이동했다면\n",
    "# 컴퓨터는 과거 화면을 다 잊어버린다\n",
    "# 반드시 요소를 새로 검색 후 명령\n",
    "search = driver.find_element(By.ID, \"query\")\n",
    "search.send_keys(\"김민재\")"
   ]
  },
  {
   "cell_type": "code",
   "execution_count": 33,
   "id": "dba6752f",
   "metadata": {},
   "outputs": [],
   "source": [
    "# 7. 검색 -> 검색버튼을 클릭\n",
    "btn = driver.find_element(By.CLASS_NAME, \"btn_search\")\n",
    "btn.click()"
   ]
  },
  {
   "cell_type": "code",
   "execution_count": 34,
   "id": "a5b81f05",
   "metadata": {},
   "outputs": [],
   "source": [
    "# 8. 창을 종료\n",
    "driver.quit()"
   ]
  },
  {
   "cell_type": "markdown",
   "id": "7416d516",
   "metadata": {},
   "source": [
    "### 참고할 점!\n",
    "- 위에서 한 방식은 최신버전의 코드\n",
    "- 1. 크롬드라이버 = 컴퓨터용 크롬\n",
    "- 1.1 wb.Chrome(\"크롬드라이버의 경로\")\n",
    "- 2. find_element(By.ID) -> find_element_by_id()"
   ]
  },
  {
   "cell_type": "code",
   "execution_count": null,
   "id": "8c89dfd0",
   "metadata": {},
   "outputs": [],
   "source": []
  }
 ],
 "metadata": {
  "kernelspec": {
   "display_name": "Python 3 (ipykernel)",
   "language": "python",
   "name": "python3"
  },
  "language_info": {
   "codemirror_mode": {
    "name": "ipython",
    "version": 3
   },
   "file_extension": ".py",
   "mimetype": "text/x-python",
   "name": "python",
   "nbconvert_exporter": "python",
   "pygments_lexer": "ipython3",
   "version": "3.10.9"
  }
 },
 "nbformat": 4,
 "nbformat_minor": 5
}
