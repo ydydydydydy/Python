{
 "cells": [
  {
   "cell_type": "code",
   "execution_count": 13,
   "id": "c7e985c2",
   "metadata": {},
   "outputs": [],
   "source": [
    "from selenium import webdriver as wb\n",
    "from selenium.webdriver.common.by import By\n",
    "import time\n",
    "from selenium.webdriver.common.keys import Keys\n",
    "\n",
    "# 파일 시스템을 위한 라이브러리(삭제, 생성)\n",
    "import os\n",
    "# 이미지의 경로를 실제 파일로 저장\n",
    "from urllib.request import urlretrieve"
   ]
  },
  {
   "cell_type": "code",
   "execution_count": 14,
   "id": "c526f503",
   "metadata": {},
   "outputs": [],
   "source": [
    "# 폴더 생성\n",
    "# 바탕화면에 이미지라는 폴더가 없다면 바탕화면에 이미지라는 폴더를 만들기\n",
    "if not os.path.isdir(\"C:/Users/gjaischool/Desktop/이미지\") :\n",
    "    os.mkdir(\"C:/Users/gjaischool/Desktop/이미지\")"
   ]
  },
  {
   "cell_type": "code",
   "execution_count": 15,
   "id": "66e44062",
   "metadata": {},
   "outputs": [],
   "source": [
    "driver = wb.Chrome()\n",
    "driver.get('https://search.naver.com/search.naver?where=image&sm=tab_jum&query=%ED%91%B8%EB%B0%94%EC%98%A4')"
   ]
  },
  {
   "cell_type": "code",
   "execution_count": 16,
   "id": "201846aa",
   "metadata": {},
   "outputs": [],
   "source": [
    "# 스크롤하는 코드\n",
    "for i in range(10) :\n",
    "    body = driver.find_element(By.CSS_SELECTOR, \"body\")\n",
    "    body.send_keys(Keys.END)"
   ]
  },
  {
   "cell_type": "code",
   "execution_count": 17,
   "id": "ad723556",
   "metadata": {},
   "outputs": [],
   "source": [
    "# 이미지 태그들을 수집\n",
    "img = driver.find_elements(By.CSS_SELECTOR, \"._image._listImage\")"
   ]
  },
  {
   "cell_type": "code",
   "execution_count": 18,
   "id": "98acae42",
   "metadata": {},
   "outputs": [
    {
     "data": {
      "text/plain": [
       "'https://search.pstatic.net/common/?src=http%3A%2F%2Fblogfiles.naver.net%2FMjAyMzA2MjJfNzcg%2FMDAxNjg3NDQzNzMxNTEw.LMYyB5V2r7yLTVkAoHmhm5SNDUCdYN835vCvbhyP5-Yg.hQq4mezI-6w3R1t8aOnUVHRHJPGwIteYg6GoozaBNusg.PNG.trric%2F%25BD%25BA%25C5%25A9%25B8%25B0%25BC%25A6_2023-06-22_%25BF%25C0%25C8%25C4_11.18.46.png&type=a340'"
      ]
     },
     "execution_count": 18,
     "metadata": {},
     "output_type": "execute_result"
    }
   ],
   "source": [
    "# 태그 안에 있는 속성을 가지고올 때는 get_attribute(\"속성\")\n",
    "img[0].get_attribute(\"src\")"
   ]
  },
  {
   "cell_type": "code",
   "execution_count": 19,
   "id": "d1fa44de",
   "metadata": {},
   "outputs": [
    {
     "data": {
      "text/plain": [
       "['https://search.pstatic.net/common/?src=http%3A%2F%2Fblogfiles.naver.net%2FMjAyMzA2MjJfNzcg%2FMDAxNjg3NDQzNzMxNTEw.LMYyB5V2r7yLTVkAoHmhm5SNDUCdYN835vCvbhyP5-Yg.hQq4mezI-6w3R1t8aOnUVHRHJPGwIteYg6GoozaBNusg.PNG.trric%2F%25BD%25BA%25C5%25A9%25B8%25B0%25BC%25A6_2023-06-22_%25BF%25C0%25C8%25C4_11.18.46.png&type=a340',\n",
       " 'https://search.pstatic.net/common/?src=http%3A%2F%2Fblogfiles.naver.net%2FMjAyMzA1MjdfMjc0%2FMDAxNjg1MTk3NjMyOTAx.y4syQSW-maBnTwQ2-GBpciZ-1NxjBXWjDMDLY6FUfKcg.HSMvK7DNtMJewR73_cP_mXISe1WBMC28lIeabmtYgGcg.JPEG.niceguy00%2FSeul_%25BF%25EB%25C0%25CE%25C7%25AA%25BE%25BE_%25C7%25AA%25B9%25D9%25BF%25C042.jpg&type=ofullfill340_600_png',\n",
       " 'https://search.pstatic.net/common/?src=http%3A%2F%2Fblogfiles.naver.net%2FMjAyMzA2MDVfMjU0%2FMDAxNjg1OTYzMTY3OTE1.URPGywPg6GUfJQrf_Ea4GM9CYI2vgyAmrayv5n1mxbog.yyhgLmJnUan_h599jn20B3VWw-ZYJeZn2KqpwtOMdQ8g.JPEG.jh1723%2FIMG_4362.jpg&type=a340',\n",
       " 'https://search.pstatic.net/common/?src=http%3A%2F%2Fblogfiles.naver.net%2FMjAyMzA4MTFfMTg5%2FMDAxNjkxNzM3OTI5MDk2.OAffpBx0rMO_iueN64MePhN3mKuG-z0UnQxOzwWFR8og.UNk2SfK5HJkzq6qAkuvh81Qx9Ln2EmJHS6RbRz8uTw8g.JPEG.mj93424%2FDSC00850.JPG&type=l340_165',\n",
       " 'https://search.pstatic.net/sunny/?src=https%3A%2F%2Fstorage.enuri.info%2Fpic_upload%2Fknowbox%2Fmobile_img%2F202306%2F2023060811553448755.jpg&type=a340',\n",
       " 'https://search.pstatic.net/common/?src=http%3A%2F%2Fblogfiles.naver.net%2FMjAyMzA3MTFfODYg%2FMDAxNjg5MDg0MDY4OTU1.LxzMTzkh5EZc42jD93mGcLnlVzs8pEAErcgbUDN5XaQg.KplVK5JPl1cCv3Juo8vMXwovrafFsJs7S0c_r_elB9gg.JPEG.smilessun02%2FKakaoTalk_20230711_223801002_23.jpg&type=a340',\n",
       " 'https://search.pstatic.net/common/?src=http%3A%2F%2Fblogfiles.naver.net%2FMjAyMzA3MTFfMjc1%2FMDAxNjg5MDM1MTczNTU1.NB2nadbMf44-R78yPpmAiTRf6Lm0ScVtAvnt4TENXA4g.bZXol5oWCLaS7YhFmcI11LC9PI6SmOTnxibfoMU3BTog.PNG.juhyeon_oh%2Fimage.png&type=a340',\n",
       " 'https://search.pstatic.net/common/?src=http%3A%2F%2Fblogfiles.naver.net%2FMjAyMzA2MDlfMjkg%2FMDAxNjg2MzAyMDk2MjA5.CjVV9CY-P4h6tTlKK4lEZKrI7zIvgmn_eN0GQhPuWZAg.FSTlz22U37QHm4LdJthq-pnYhlivLC-RTJ5_SfT2Onog.PNG.lyuri30%2Fimage.png&type=a340',\n",
       " 'https://search.pstatic.net/common/?src=http%3A%2F%2Fblogfiles.naver.net%2FMjAyMzA2MDZfMTA3%2FMDAxNjg2MDU4ODc5NDU5.ijXJ7XhJPbe3yRq9nWF15wAImey6pFB_5YQECxcMJusg.2G427-RYZCt4mlcA7XThlpWuY3YcoYTnv6tk-qZaipAg.JPEG.iwillberunning%2FIMG_2897.jpg&type=a340',\n",
       " 'https://search.pstatic.net/common/?src=http%3A%2F%2Fblogfiles.naver.net%2FMjAyMzA2MDJfMTcy%2FMDAxNjg1Njk3MjQwNjIw.dkkTM7HLyaZcXt-fTbRZ7-hVxj8DFdUNhLJ2hC6D20Ig.h_oDzlYEu4xMlMtRx9yyx0aMNg1nQR-iSJgKbuXCk_8g.PNG.junn0815%2F%25BD%25BA%25C5%25A9%25B8%25B0%25BC%25A6_2023-06-02_%25BF%25C0%25C8%25C4_6.13.08.png&type=a340',\n",
       " 'https://search.pstatic.net/common/?src=http%3A%2F%2Fblogfiles.naver.net%2FMjAyMzA2MjRfMTEz%2FMDAxNjg3NjAyNDQ0OTA5.t-v_Ncx1-gbVoeDQLfcqdEGRxvMlChKiWqXrvZAFJyEg.37flfHacqBXb_RLLvzmdKQODcHuWbhcODc8hGzr3W2Ag.JPEG.hlove5022%2F1687602444004.jpg&type=a340',\n",
       " 'https://search.pstatic.net/common/?src=http%3A%2F%2Fblogfiles.naver.net%2FMjAyMzA3MjFfMjc0%2FMDAxNjg5OTA5MDcyNzUw.RJTQFaLBxZLAI0UGLf2z6YRII8LoiJD_cBUknyEEebEg.nZfxzZAPNW_FHqei_XIAcJJvLCxjGBalvhB11_Z9uRQg.JPEG.ghswkdmlrkcl%2F1689909070973.jpg&type=a340',\n",
       " 'https://search.pstatic.net/common/?src=http%3A%2F%2Fblogfiles.naver.net%2FMjAyMzA2MDhfNzQg%2FMDAxNjg2MjI5ODAwNjIw.-mU7_tcbm1_gYRdv7z70CRPfOAqph1SbetbBV55XnMYg.MuFHy0dveY8yXZ4Af2WMboFW0oZm4hhKSA7ug_fjdhEg.JPEG.manggaecloud%2FIMG_6219.JPG&type=ofullfill340_600_png',\n",
       " 'https://search.pstatic.net/common/?src=http%3A%2F%2Fblogfiles.naver.net%2FMjAyMzA2MDlfMTY4%2FMDAxNjg2MzE3MjUwNTk3.zVyaKjl1WJJ50N4C5LXk__4-4mt3l64m4sGNyCJNQjgg.sjf--SGbPT6X5_XVDHHbqZwF6tjlSwRF3reHX42S3log.JPEG.ssunyu12%2FIMG_2803.jpg&type=a340',\n",
       " 'https://search.pstatic.net/common/?src=http%3A%2F%2Fblogfiles.naver.net%2FMjAyMzA2MjJfNiAg%2FMDAxNjg3NDQwMTE4NTg3.UwMfWeHJdPxX4pKH7ShWmQR6wMz2gKFP3KLghp1oT0wg.EMdki0vtl5BUqRTSk8pFbqmslJQj1WdAdhXMSwfeQHYg.JPEG.yang0653%2FKakaoTalk_20230622_220337557_09.jpg&type=a340',\n",
       " 'data:image/gif;base64,R0lGODlhAQABAIAAAAAAAP///yH5BAEAAAAALAAAAAABAAEAAAIBRAA7',\n",
       " 'data:image/gif;base64,R0lGODlhAQABAIAAAAAAAP///yH5BAEAAAAALAAAAAABAAEAAAIBRAA7',\n",
       " 'data:image/gif;base64,R0lGODlhAQABAIAAAAAAAP///yH5BAEAAAAALAAAAAABAAEAAAIBRAA7',\n",
       " 'data:image/gif;base64,R0lGODlhAQABAIAAAAAAAP///yH5BAEAAAAALAAAAAABAAEAAAIBRAA7',\n",
       " 'data:image/gif;base64,R0lGODlhAQABAIAAAAAAAP///yH5BAEAAAAALAAAAAABAAEAAAIBRAA7',\n",
       " 'data:image/gif;base64,R0lGODlhAQABAIAAAAAAAP///yH5BAEAAAAALAAAAAABAAEAAAIBRAA7',\n",
       " 'data:image/gif;base64,R0lGODlhAQABAIAAAAAAAP///yH5BAEAAAAALAAAAAABAAEAAAIBRAA7',\n",
       " 'data:image/gif;base64,R0lGODlhAQABAIAAAAAAAP///yH5BAEAAAAALAAAAAABAAEAAAIBRAA7',\n",
       " 'data:image/gif;base64,R0lGODlhAQABAIAAAAAAAP///yH5BAEAAAAALAAAAAABAAEAAAIBRAA7',\n",
       " 'data:image/gif;base64,R0lGODlhAQABAIAAAAAAAP///yH5BAEAAAAALAAAAAABAAEAAAIBRAA7',\n",
       " 'data:image/gif;base64,R0lGODlhAQABAIAAAAAAAP///yH5BAEAAAAALAAAAAABAAEAAAIBRAA7',\n",
       " 'data:image/gif;base64,R0lGODlhAQABAIAAAAAAAP///yH5BAEAAAAALAAAAAABAAEAAAIBRAA7',\n",
       " 'data:image/gif;base64,R0lGODlhAQABAIAAAAAAAP///yH5BAEAAAAALAAAAAABAAEAAAIBRAA7',\n",
       " 'data:image/gif;base64,R0lGODlhAQABAIAAAAAAAP///yH5BAEAAAAALAAAAAABAAEAAAIBRAA7',\n",
       " 'data:image/gif;base64,R0lGODlhAQABAIAAAAAAAP///yH5BAEAAAAALAAAAAABAAEAAAIBRAA7',\n",
       " 'data:image/gif;base64,R0lGODlhAQABAIAAAAAAAP///yH5BAEAAAAALAAAAAABAAEAAAIBRAA7',\n",
       " 'data:image/gif;base64,R0lGODlhAQABAIAAAAAAAP///yH5BAEAAAAALAAAAAABAAEAAAIBRAA7',\n",
       " 'data:image/gif;base64,R0lGODlhAQABAIAAAAAAAP///yH5BAEAAAAALAAAAAABAAEAAAIBRAA7',\n",
       " 'data:image/gif;base64,R0lGODlhAQABAIAAAAAAAP///yH5BAEAAAAALAAAAAABAAEAAAIBRAA7',\n",
       " 'data:image/gif;base64,R0lGODlhAQABAIAAAAAAAP///yH5BAEAAAAALAAAAAABAAEAAAIBRAA7',\n",
       " 'data:image/gif;base64,R0lGODlhAQABAIAAAAAAAP///yH5BAEAAAAALAAAAAABAAEAAAIBRAA7',\n",
       " 'data:image/gif;base64,R0lGODlhAQABAIAAAAAAAP///yH5BAEAAAAALAAAAAABAAEAAAIBRAA7',\n",
       " 'https://search.pstatic.net/common/?src=http%3A%2F%2Fblogfiles.naver.net%2FMjAyMzA2MDlfODMg%2FMDAxNjg2MjkwNjE3MDU0.FiejawrizbTU1E8JISILNSAel0V3aTRN1FkJEgKlt4Ig.BpYNeUo5cELPBtdmltKTqFmWY1QBLtStazcq5ccwxEsg.JPEG.bgy209%2FIMG_1512.JPG&type=a340',\n",
       " 'https://search.pstatic.net/common/?src=http%3A%2F%2Fblogfiles.naver.net%2FMjAyMzA2MTdfMTM0%2FMDAxNjg3MDAyNzE2NzMx.tdcyyogldnGJqSP8Xu8ycQbE8Ob0Rg6RaBlz-CitbJMg.kP8md-N84qN5lYafi7P_s68SLvj7UCWv77RuXQf-z5og.JPEG.elmarmol%2FKakaoTalk_20230617_202716997_07.jpg&type=a340',\n",
       " 'https://search.pstatic.net/sunny/?src=https%3A%2F%2Ft1.daumcdn.net%2Fcafeattach%2F1IHuH%2F41d3739b60f7852a78abd26475871c2e9436f4df&type=a340',\n",
       " 'https://search.pstatic.net/common/?src=http%3A%2F%2Fblogfiles.naver.net%2FMjAyMzA2MDhfMTM1%2FMDAxNjg2MTk2OTcxMzU3.QtyyZhg_nKwy4BL4F3dg5VRxmPrct3uTzr2mZEnT3j0g.9E9e_W1elcK20zrfbMTLAV8KGAQ6jENeBVCIpCIV9M4g.JPEG.wsp0402%2FKakaoTalk_Photo_2023-06-08-12-23-35_016.jpeg&type=a340',\n",
       " 'https://search.pstatic.net/sunny/?src=https%3A%2F%2Fimg-store.theqoo.net%2FiBbFjf.png&type=l340_165',\n",
       " 'https://search.pstatic.net/sunny/?src=https%3A%2F%2Fdimg.donga.com%2Fwps%2FNEWS%2FIMAGE%2F2023%2F07%2F11%2F120172294.2.jpg&type=a340',\n",
       " 'https://search.pstatic.net/common/?src=http%3A%2F%2Fpost.phinf.naver.net%2FMjAyMzA2MTVfNjIg%2FMDAxNjg2ODA4NjUyNjMz.SV_tif0uFtot8RqfK1WrpM8ndX4oRsGBPc3fxrOQ-QMg.mZ_Y9dE2qP25fxI6HO6E0YR3BlQdVdpgDrCLoIAreUkg.JPEG%2FIw0OlYsCXQBa4CeD83-aaP99MQv4.jpg&type=a340',\n",
       " 'https://search.pstatic.net/common/?src=http%3A%2F%2Fblogfiles.naver.net%2FMjAyMzA3MTFfMTY2%2FMDAxNjg5MDUwMTE4OTY5.D0fS2rlF50qZwB_Cvf2RJkmKrD3r-rD1fDKPwUHHb3Yg.0C4H6tLEbAn8M-eTLg_CZLDxNjekUi6-gNPNGWiIIuog.JPEG.kyurhi%2F0001284943%25A3%25DF003%25A3%25DF20230711103201417.jpg&type=a340',\n",
       " 'https://search.pstatic.net/common/?src=http%3A%2F%2Fblogfiles.naver.net%2FMjAyMzA4MTFfMjI5%2FMDAxNjkxNzY1NDI5NzU2.hglvnk_sBtXu4GrY5VDiiG9IEcmeNJwiWd477bMXNA4g.ArScbm4YocdKfXkOWtsFM8t6H9pzrytgRETFiEkI2TEg.JPEG.jxlove12%2FVideoCapture%25A3%25DF20230720%25A3%25AD140021.jpg&type=ofullfill340_600_png',\n",
       " 'https://search.pstatic.net/common/?src=http%3A%2F%2Fblogfiles.naver.net%2FMjAyMzA3MTZfMjE4%2FMDAxNjg5NDM3ODQ5OTMw.10QKGcOg1Qj4DMMSmHYA7bJG11TiGiY3kiGwc8rjfkQg.4of6WB08JPxkYganLnkeyKyrbMWFkjx-HNp8jVlkvTEg.JPEG.yc3129yc%2FKakaoTalk_20230716_010227950.jpg&type=a340',\n",
       " 'https://search.pstatic.net/sunny/?src=https%3A%2F%2Fdcimg4.dcinside.co.kr%2Fviewimage.php%3Fid%3D2ba8d227ea%26no%3D24b0d769e1d32ca73fea81fa11d028310bcfe0de5d45c4cda5ff06c6105c012030c0b553679b1f37a81e4ef75657e32097eb895c339b4ac01ceb913670c8160f392032b71cc75fed9c8755c33580b5a9a72c8b797e26d75931de096036&type=a340',\n",
       " 'https://search.pstatic.net/common/?src=http%3A%2F%2Fblogfiles.naver.net%2FMjAyMzA4MDdfNDMg%2FMDAxNjkxNDAzOTcyMDIx._HRSU0Ycv2PcMra3MQLfil2XvQ3AVMQtK9RZiTfCprAg.KLwApqNsXAd1GVU7v6j4bgPgw3eG2UjFz1TtcJUcLzsg.JPEG.pranasum%2FScreenshot_20230804_174921_Instagram.jpg&type=a340',\n",
       " 'https://search.pstatic.net/common/?src=http%3A%2F%2Fblogfiles.naver.net%2FMjAyMzA2MTdfMjM0%2FMDAxNjg3MDA5NzEzMDAy.8O6dH4n98PmeUlpQApqnqpdcygMnX44o9X1gIlJfVwQg.650h4JOApdoC029LYXQq0aTNW0KTKAKjvc9yr7vg6aUg.JPEG.whtmddus0611%2Foutput_1279987424.jpg&type=a340',\n",
       " 'https://search.pstatic.net/common/?src=http%3A%2F%2Fblogfiles.naver.net%2FMjAyMzA2MDZfMjUw%2FMDAxNjg2MDUyNzcxMDc5.OQaap_y6rQGO9DBXdULb6YlnhJhgkfNXiiR4dG0xNTEg.ZOzYasvCZXTcWnZ7Oeab7FR1xkUPQ5qKtcH04r_fe24g.JPEG.lksmint016%2F1686052770010.jpg&type=a340',\n",
       " 'https://search.pstatic.net/common/?src=http%3A%2F%2Fblogfiles.naver.net%2FMjAyMzA2MjFfMTY4%2FMDAxNjg3Mjc3MTY3ODMw.LsGjJ2NRHvApQpfZsXwjm1uqV4DJUTOcsrOnJCgW6GUg.CcmA6gy5UZ4z4RcwkNl7yNH0uakGyE8AVTCD-m8ukNIg.JPEG.sunshine_308%2FDSCF0876_-_frame_at_0m15s.jpg&type=a340',\n",
       " 'https://search.pstatic.net/common/?src=http%3A%2F%2Fblogfiles.naver.net%2FMjAyMzA2MDlfNjIg%2FMDAxNjg2MzE4MjYzNjg2.hJoW5EOZpVpCloylYCuLRmeZneG2-GjomzFs6re_kdMg.LLp4ib-xWI4MbCCnQuhlRfQ6K0VkM57JKvvttnela7Ig.JPEG.sebin9911%2Foutput_717750475.jpg&type=a340',\n",
       " 'https://search.pstatic.net/common/?src=http%3A%2F%2Fimage.nmv.naver.net%2Fcafe_2023_07_02_915%2F301061d4-18d3-11ee-9dc4-d4f5ef58ac88_01.jpg&type=a340',\n",
       " 'https://search.pstatic.net/common/?src=http%3A%2F%2Fblogfiles.naver.net%2FMjAyMzA2MDVfMzcg%2FMDAxNjg1OTcyNTY0NzA2.r_S5tdfU9zFDEPQoR9eIhUYhv9ZMI6dxUBm1O0ahTIEg.sVL3i7KuOsglbp1o80ss2LE5QSmPcow0M_SUwBo9gWEg.JPEG.moongchinoona%2Foutput_4110207805.jpg&type=a340',\n",
       " 'https://search.pstatic.net/sunny/?src=https%3A%2F%2Fdcimg4.dcinside.co.kr%2Fviewimage.php%3Fid%3D2ba8d227ea%26no%3D24b0d769e1d32ca73fea81fa11d028310bcfe0de5d45c4cda5ff06c613550120c042a9c245f7664123c085cda3f919c147feb1a8a01df46653da80335a27f17c1b81dd72&type=a340',\n",
       " 'https://search.pstatic.net/common/?src=http%3A%2F%2Fblogfiles.naver.net%2FMjAyMzA2MjdfMTgg%2FMDAxNjg3ODMyODQwMTI2._JxBQehn7i1HRP8HYO5XcYt7qhyGq_CcMjbG4usNNCsg.RM-ld_1y81MEcpn6XKGsT2bIfTS7xZWvWTXXnq3YtyQg.JPEG.skybarary%2FKakaoTalk_20230627_100651252_14.jpg&type=a340',\n",
       " 'https://search.pstatic.net/common/?src=http%3A%2F%2Fblogfiles.naver.net%2FMjAyMzA3MTVfMjMg%2FMDAxNjg5MzU4NTkyODAx.D_ya7k4f3zS4WTuIPqhLPBovmS_7TIW6H-53FOuamokg.YgnGDq9RqzClE0wHnePmVfo9z3JOSNXJKnckC_Agsrog.JPEG.onepiece0109%2FoIMG_3599.jpg&type=l340_165',\n",
       " 'https://search.pstatic.net/common/?src=http%3A%2F%2Fblogfiles.naver.net%2FMjAyMzA3MTdfNTYg%2FMDAxNjg5NTk1MDEyOTI1.BlwraiGG8EEm4S3h9Kc4dQN2UpVlpHaUnVwIPg2lukgg.bxImFsrJj4cgyHkh2HcTSKV1qRcIbSoTpby-OoLEVK0g.JPEG.veryberry9%2F20230618%25A3%25DF140447.jpg&type=a340',\n",
       " 'https://search.pstatic.net/common/?src=http%3A%2F%2Fblogfiles.naver.net%2FMjAyMzA3MjNfMTk2%2FMDAxNjkwMDg3NzM5MDgx.KyMdvwhljZgpmWJ34m3IFkYS_z4_BnWFiCenAgQF7c4g.t270wMSa5TDdUuIlg-851JMunHh7h2aF-OJlgMopkp0g.JPEG.rlawogk0918%2FIMG_7829.jpg&type=a340',\n",
       " 'https://search.pstatic.net/common/?src=http%3A%2F%2Fblogfiles.naver.net%2FMjAyMzA3MDJfMjUz%2FMDAxNjg4Mjk1NjQzMDQw.j3XAzsdqksi-kZJCOEWbs3-pbW4XvzxQBr1-Z8A6tJ8g.Y87grojKken3XG2LOKihTJrj5TuIutIo7rGzXqcpjz4g.JPEG.youand1124%2FIMG_7508.jpeg&type=a340',\n",
       " 'https://search.pstatic.net/common/?src=http%3A%2F%2Fblogfiles.naver.net%2FMjAyMzA1MjlfMTc5%2FMDAxNjg1MzYyMjM5MDg5.iTzelDsbkTQCZ1oSgaWCEBdqux6omSnsIw3SiexE5ZMg.3C7YOqViDqGrs9AsLIYRYhNcaoI-jKM8eWLoPPAfDgog.JPEG.yellowgreen0120%2F1685355768560.jpg&type=a340',\n",
       " 'data:image/gif;base64,R0lGODlhAQABAIAAAAAAAP///yH5BAEAAAAALAAAAAABAAEAAAIBRAA7',\n",
       " 'data:image/gif;base64,R0lGODlhAQABAIAAAAAAAP///yH5BAEAAAAALAAAAAABAAEAAAIBRAA7',\n",
       " 'data:image/gif;base64,R0lGODlhAQABAIAAAAAAAP///yH5BAEAAAAALAAAAAABAAEAAAIBRAA7',\n",
       " 'data:image/gif;base64,R0lGODlhAQABAIAAAAAAAP///yH5BAEAAAAALAAAAAABAAEAAAIBRAA7',\n",
       " 'data:image/gif;base64,R0lGODlhAQABAIAAAAAAAP///yH5BAEAAAAALAAAAAABAAEAAAIBRAA7',\n",
       " 'data:image/gif;base64,R0lGODlhAQABAIAAAAAAAP///yH5BAEAAAAALAAAAAABAAEAAAIBRAA7',\n",
       " 'data:image/gif;base64,R0lGODlhAQABAIAAAAAAAP///yH5BAEAAAAALAAAAAABAAEAAAIBRAA7',\n",
       " 'data:image/gif;base64,R0lGODlhAQABAIAAAAAAAP///yH5BAEAAAAALAAAAAABAAEAAAIBRAA7',\n",
       " 'data:image/gif;base64,R0lGODlhAQABAIAAAAAAAP///yH5BAEAAAAALAAAAAABAAEAAAIBRAA7',\n",
       " 'data:image/gif;base64,R0lGODlhAQABAIAAAAAAAP///yH5BAEAAAAALAAAAAABAAEAAAIBRAA7',\n",
       " 'data:image/gif;base64,R0lGODlhAQABAIAAAAAAAP///yH5BAEAAAAALAAAAAABAAEAAAIBRAA7',\n",
       " 'data:image/gif;base64,R0lGODlhAQABAIAAAAAAAP///yH5BAEAAAAALAAAAAABAAEAAAIBRAA7',\n",
       " 'data:image/gif;base64,R0lGODlhAQABAIAAAAAAAP///yH5BAEAAAAALAAAAAABAAEAAAIBRAA7',\n",
       " 'data:image/gif;base64,R0lGODlhAQABAIAAAAAAAP///yH5BAEAAAAALAAAAAABAAEAAAIBRAA7',\n",
       " 'data:image/gif;base64,R0lGODlhAQABAIAAAAAAAP///yH5BAEAAAAALAAAAAABAAEAAAIBRAA7',\n",
       " 'data:image/gif;base64,R0lGODlhAQABAIAAAAAAAP///yH5BAEAAAAALAAAAAABAAEAAAIBRAA7',\n",
       " 'data:image/gif;base64,R0lGODlhAQABAIAAAAAAAP///yH5BAEAAAAALAAAAAABAAEAAAIBRAA7',\n",
       " 'data:image/gif;base64,R0lGODlhAQABAIAAAAAAAP///yH5BAEAAAAALAAAAAABAAEAAAIBRAA7',\n",
       " 'data:image/gif;base64,R0lGODlhAQABAIAAAAAAAP///yH5BAEAAAAALAAAAAABAAEAAAIBRAA7',\n",
       " 'data:image/gif;base64,R0lGODlhAQABAIAAAAAAAP///yH5BAEAAAAALAAAAAABAAEAAAIBRAA7',\n",
       " 'data:image/gif;base64,R0lGODlhAQABAIAAAAAAAP///yH5BAEAAAAALAAAAAABAAEAAAIBRAA7',\n",
       " 'data:image/gif;base64,R0lGODlhAQABAIAAAAAAAP///yH5BAEAAAAALAAAAAABAAEAAAIBRAA7',\n",
       " 'data:image/gif;base64,R0lGODlhAQABAIAAAAAAAP///yH5BAEAAAAALAAAAAABAAEAAAIBRAA7',\n",
       " 'data:image/gif;base64,R0lGODlhAQABAIAAAAAAAP///yH5BAEAAAAALAAAAAABAAEAAAIBRAA7',\n",
       " 'data:image/gif;base64,R0lGODlhAQABAIAAAAAAAP///yH5BAEAAAAALAAAAAABAAEAAAIBRAA7',\n",
       " 'data:image/gif;base64,R0lGODlhAQABAIAAAAAAAP///yH5BAEAAAAALAAAAAABAAEAAAIBRAA7',\n",
       " 'data:image/gif;base64,R0lGODlhAQABAIAAAAAAAP///yH5BAEAAAAALAAAAAABAAEAAAIBRAA7',\n",
       " 'data:image/gif;base64,R0lGODlhAQABAIAAAAAAAP///yH5BAEAAAAALAAAAAABAAEAAAIBRAA7',\n",
       " 'data:image/gif;base64,R0lGODlhAQABAIAAAAAAAP///yH5BAEAAAAALAAAAAABAAEAAAIBRAA7',\n",
       " 'data:image/gif;base64,R0lGODlhAQABAIAAAAAAAP///yH5BAEAAAAALAAAAAABAAEAAAIBRAA7',\n",
       " 'data:image/gif;base64,R0lGODlhAQABAIAAAAAAAP///yH5BAEAAAAALAAAAAABAAEAAAIBRAA7',\n",
       " 'data:image/gif;base64,R0lGODlhAQABAIAAAAAAAP///yH5BAEAAAAALAAAAAABAAEAAAIBRAA7',\n",
       " 'data:image/gif;base64,R0lGODlhAQABAIAAAAAAAP///yH5BAEAAAAALAAAAAABAAEAAAIBRAA7',\n",
       " 'data:image/gif;base64,R0lGODlhAQABAIAAAAAAAP///yH5BAEAAAAALAAAAAABAAEAAAIBRAA7',\n",
       " 'data:image/gif;base64,R0lGODlhAQABAIAAAAAAAP///yH5BAEAAAAALAAAAAABAAEAAAIBRAA7',\n",
       " 'data:image/gif;base64,R0lGODlhAQABAIAAAAAAAP///yH5BAEAAAAALAAAAAABAAEAAAIBRAA7',\n",
       " 'data:image/gif;base64,R0lGODlhAQABAIAAAAAAAP///yH5BAEAAAAALAAAAAABAAEAAAIBRAA7',\n",
       " 'data:image/gif;base64,R0lGODlhAQABAIAAAAAAAP///yH5BAEAAAAALAAAAAABAAEAAAIBRAA7',\n",
       " 'data:image/gif;base64,R0lGODlhAQABAIAAAAAAAP///yH5BAEAAAAALAAAAAABAAEAAAIBRAA7',\n",
       " 'data:image/gif;base64,R0lGODlhAQABAIAAAAAAAP///yH5BAEAAAAALAAAAAABAAEAAAIBRAA7',\n",
       " 'data:image/gif;base64,R0lGODlhAQABAIAAAAAAAP///yH5BAEAAAAALAAAAAABAAEAAAIBRAA7',\n",
       " 'data:image/gif;base64,R0lGODlhAQABAIAAAAAAAP///yH5BAEAAAAALAAAAAABAAEAAAIBRAA7',\n",
       " 'data:image/gif;base64,R0lGODlhAQABAIAAAAAAAP///yH5BAEAAAAALAAAAAABAAEAAAIBRAA7',\n",
       " 'data:image/gif;base64,R0lGODlhAQABAIAAAAAAAP///yH5BAEAAAAALAAAAAABAAEAAAIBRAA7',\n",
       " 'data:image/gif;base64,R0lGODlhAQABAIAAAAAAAP///yH5BAEAAAAALAAAAAABAAEAAAIBRAA7',\n",
       " 'data:image/gif;base64,R0lGODlhAQABAIAAAAAAAP///yH5BAEAAAAALAAAAAABAAEAAAIBRAA7',\n",
       " 'data:image/gif;base64,R0lGODlhAQABAIAAAAAAAP///yH5BAEAAAAALAAAAAABAAEAAAIBRAA7',\n",
       " 'data:image/gif;base64,R0lGODlhAQABAIAAAAAAAP///yH5BAEAAAAALAAAAAABAAEAAAIBRAA7',\n",
       " 'data:image/gif;base64,R0lGODlhAQABAIAAAAAAAP///yH5BAEAAAAALAAAAAABAAEAAAIBRAA7',\n",
       " 'data:image/gif;base64,R0lGODlhAQABAIAAAAAAAP///yH5BAEAAAAALAAAAAABAAEAAAIBRAA7',\n",
       " 'data:image/gif;base64,R0lGODlhAQABAIAAAAAAAP///yH5BAEAAAAALAAAAAABAAEAAAIBRAA7',\n",
       " 'data:image/gif;base64,R0lGODlhAQABAIAAAAAAAP///yH5BAEAAAAALAAAAAABAAEAAAIBRAA7',\n",
       " 'data:image/gif;base64,R0lGODlhAQABAIAAAAAAAP///yH5BAEAAAAALAAAAAABAAEAAAIBRAA7',\n",
       " 'data:image/gif;base64,R0lGODlhAQABAIAAAAAAAP///yH5BAEAAAAALAAAAAABAAEAAAIBRAA7',\n",
       " 'data:image/gif;base64,R0lGODlhAQABAIAAAAAAAP///yH5BAEAAAAALAAAAAABAAEAAAIBRAA7',\n",
       " 'data:image/gif;base64,R0lGODlhAQABAIAAAAAAAP///yH5BAEAAAAALAAAAAABAAEAAAIBRAA7',\n",
       " 'data:image/gif;base64,R0lGODlhAQABAIAAAAAAAP///yH5BAEAAAAALAAAAAABAAEAAAIBRAA7',\n",
       " 'data:image/gif;base64,R0lGODlhAQABAIAAAAAAAP///yH5BAEAAAAALAAAAAABAAEAAAIBRAA7',\n",
       " 'data:image/gif;base64,R0lGODlhAQABAIAAAAAAAP///yH5BAEAAAAALAAAAAABAAEAAAIBRAA7',\n",
       " 'data:image/gif;base64,R0lGODlhAQABAIAAAAAAAP///yH5BAEAAAAALAAAAAABAAEAAAIBRAA7',\n",
       " 'data:image/gif;base64,R0lGODlhAQABAIAAAAAAAP///yH5BAEAAAAALAAAAAABAAEAAAIBRAA7',\n",
       " 'data:image/gif;base64,R0lGODlhAQABAIAAAAAAAP///yH5BAEAAAAALAAAAAABAAEAAAIBRAA7',\n",
       " 'data:image/gif;base64,R0lGODlhAQABAIAAAAAAAP///yH5BAEAAAAALAAAAAABAAEAAAIBRAA7',\n",
       " 'data:image/gif;base64,R0lGODlhAQABAIAAAAAAAP///yH5BAEAAAAALAAAAAABAAEAAAIBRAA7',\n",
       " 'data:image/gif;base64,R0lGODlhAQABAIAAAAAAAP///yH5BAEAAAAALAAAAAABAAEAAAIBRAA7',\n",
       " 'data:image/gif;base64,R0lGODlhAQABAIAAAAAAAP///yH5BAEAAAAALAAAAAABAAEAAAIBRAA7',\n",
       " 'data:image/gif;base64,R0lGODlhAQABAIAAAAAAAP///yH5BAEAAAAALAAAAAABAAEAAAIBRAA7',\n",
       " 'data:image/gif;base64,R0lGODlhAQABAIAAAAAAAP///yH5BAEAAAAALAAAAAABAAEAAAIBRAA7',\n",
       " 'data:image/gif;base64,R0lGODlhAQABAIAAAAAAAP///yH5BAEAAAAALAAAAAABAAEAAAIBRAA7',\n",
       " 'data:image/gif;base64,R0lGODlhAQABAIAAAAAAAP///yH5BAEAAAAALAAAAAABAAEAAAIBRAA7',\n",
       " 'data:image/gif;base64,R0lGODlhAQABAIAAAAAAAP///yH5BAEAAAAALAAAAAABAAEAAAIBRAA7',\n",
       " 'data:image/gif;base64,R0lGODlhAQABAIAAAAAAAP///yH5BAEAAAAALAAAAAABAAEAAAIBRAA7',\n",
       " 'data:image/gif;base64,R0lGODlhAQABAIAAAAAAAP///yH5BAEAAAAALAAAAAABAAEAAAIBRAA7',\n",
       " 'data:image/gif;base64,R0lGODlhAQABAIAAAAAAAP///yH5BAEAAAAALAAAAAABAAEAAAIBRAA7',\n",
       " 'data:image/gif;base64,R0lGODlhAQABAIAAAAAAAP///yH5BAEAAAAALAAAAAABAAEAAAIBRAA7',\n",
       " 'data:image/gif;base64,R0lGODlhAQABAIAAAAAAAP///yH5BAEAAAAALAAAAAABAAEAAAIBRAA7',\n",
       " 'data:image/gif;base64,R0lGODlhAQABAIAAAAAAAP///yH5BAEAAAAALAAAAAABAAEAAAIBRAA7',\n",
       " 'data:image/gif;base64,R0lGODlhAQABAIAAAAAAAP///yH5BAEAAAAALAAAAAABAAEAAAIBRAA7',\n",
       " 'data:image/gif;base64,R0lGODlhAQABAIAAAAAAAP///yH5BAEAAAAALAAAAAABAAEAAAIBRAA7',\n",
       " 'data:image/gif;base64,R0lGODlhAQABAIAAAAAAAP///yH5BAEAAAAALAAAAAABAAEAAAIBRAA7',\n",
       " 'data:image/gif;base64,R0lGODlhAQABAIAAAAAAAP///yH5BAEAAAAALAAAAAABAAEAAAIBRAA7',\n",
       " 'data:image/gif;base64,R0lGODlhAQABAIAAAAAAAP///yH5BAEAAAAALAAAAAABAAEAAAIBRAA7']"
      ]
     },
     "execution_count": 19,
     "metadata": {},
     "output_type": "execute_result"
    }
   ],
   "source": [
    "# src만 담아줄 리스트를 제작\n",
    "src = []\n",
    "for i in range(len(img)) :\n",
    "    src.append(img[i].get_attribute(\"src\"))\n",
    "src"
   ]
  },
  {
   "cell_type": "code",
   "execution_count": 20,
   "id": "bacec13c",
   "metadata": {},
   "outputs": [],
   "source": [
    "# 이미지의 경로를 실제 파일로 저장\n",
    "for i in range(len(src)) :\n",
    "    urlretrieve(src[i],\"C:/Users/gjaischool/Desktop/이미지/\"+str(i)+\".jpg\")"
   ]
  }
 ],
 "metadata": {
  "kernelspec": {
   "display_name": "Python 3 (ipykernel)",
   "language": "python",
   "name": "python3"
  },
  "language_info": {
   "codemirror_mode": {
    "name": "ipython",
    "version": 3
   },
   "file_extension": ".py",
   "mimetype": "text/x-python",
   "name": "python",
   "nbconvert_exporter": "python",
   "pygments_lexer": "ipython3",
   "version": "3.10.9"
  }
 },
 "nbformat": 4,
 "nbformat_minor": 5
}
