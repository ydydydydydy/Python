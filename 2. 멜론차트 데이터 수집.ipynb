{
 "cells": [
  {
   "cell_type": "code",
   "execution_count": 29,
   "id": "9cb8a3e1",
   "metadata": {},
   "outputs": [],
   "source": [
    "import requests as req\n",
    "from bs4 import BeautifulSoup as bs"
   ]
  },
  {
   "cell_type": "code",
   "execution_count": 30,
   "id": "0e7b9092",
   "metadata": {},
   "outputs": [],
   "source": [
    "# 1. req를 통해서 멜론차트 정보를 요청\n",
    "head = {'User-Agent':'Mozilla/5.0 (Windows NT 10.0; Win64; x64) AppleWebKit/537.36 (KHTML, like Gecko) Chrome/116.0.0.0 Safari/537.36'}\n",
    "res = req.get(\"https://www.melon.com/chart/index.htm\", headers = head)"
   ]
  },
  {
   "cell_type": "code",
   "execution_count": 31,
   "id": "4e0ceb3b",
   "metadata": {},
   "outputs": [],
   "source": [
    "# 2. bs을 통해서 html데이터로 변형\n",
    "soup = bs(res.text, \"lxml\")"
   ]
  },
  {
   "cell_type": "code",
   "execution_count": 32,
   "id": "c0ec1fa9",
   "metadata": {},
   "outputs": [],
   "source": [
    "# 3. 노래제목 수집\n",
    "# 클래스값 중간에 공백이 있다는 건 -> 클래스가 복수개다\n",
    "# 공백을 지우고 반드시 . 으로 이어준다\n",
    "# ex) div class = ellipsis rank01 --> ellipsis 와 rank01 이라는 두 개의 클래스를 의미 --> ellipsis.rank01\n",
    "song = soup.select(\"div.ellipsis.rank01 > span > a\")"
   ]
  },
  {
   "cell_type": "code",
   "execution_count": 33,
   "id": "92540395",
   "metadata": {},
   "outputs": [],
   "source": [
    "# 4. 가수이름 수집 (span.checkEllipsis -> 가수 이름이 두 번씩 출력되는 걸 방지)\n",
    "singer = soup.select(\"div.ellipsis.rank02 > span.checkEllipsis\")"
   ]
  },
  {
   "cell_type": "code",
   "execution_count": 34,
   "id": "38777cdb",
   "metadata": {
    "scrolled": true
   },
   "outputs": [
    {
     "data": {
      "text/plain": [
       "100"
      ]
     },
     "execution_count": 34,
     "metadata": {},
     "output_type": "execute_result"
    }
   ],
   "source": [
    "# 데이터의 개수가 정해진 경우에는 반드시 데이터 검증이 필요하다\n",
    "# (데이터의 길이, 데이터의 중복여부)\n",
    "len(singer)"
   ]
  },
  {
   "cell_type": "code",
   "execution_count": 38,
   "id": "f75e5d99",
   "metadata": {},
   "outputs": [],
   "source": [
    "# 5. 수집된 데이터를 텍스트 정보만 추출해서 저장\n",
    "song_list = []\n",
    "singer_list = []\n",
    "for i in range(len(song)) :\n",
    "    song_list.append(song[i].text)\n",
    "    singer_list.append(singer[i].text)"
   ]
  },
  {
   "cell_type": "code",
   "execution_count": 39,
   "id": "626f3573",
   "metadata": {},
   "outputs": [],
   "source": [
    "# 6. 표를 제작\n",
    "import pandas as pd"
   ]
  },
  {
   "cell_type": "code",
   "execution_count": 45,
   "id": "2334f75a",
   "metadata": {},
   "outputs": [
    {
     "data": {
      "text/html": [
       "<div>\n",
       "<style scoped>\n",
       "    .dataframe tbody tr th:only-of-type {\n",
       "        vertical-align: middle;\n",
       "    }\n",
       "\n",
       "    .dataframe tbody tr th {\n",
       "        vertical-align: top;\n",
       "    }\n",
       "\n",
       "    .dataframe thead th {\n",
       "        text-align: right;\n",
       "    }\n",
       "</style>\n",
       "<table border=\"1\" class=\"dataframe\">\n",
       "  <thead>\n",
       "    <tr style=\"text-align: right;\">\n",
       "      <th></th>\n",
       "      <th>가수이름</th>\n",
       "      <th>노래제목</th>\n",
       "    </tr>\n",
       "  </thead>\n",
       "  <tbody>\n",
       "    <tr>\n",
       "      <th>0</th>\n",
       "      <td>정국</td>\n",
       "      <td>Seven (feat. Latto) - Clean Ver.</td>\n",
       "    </tr>\n",
       "    <tr>\n",
       "      <th>1</th>\n",
       "      <td>NewJeans</td>\n",
       "      <td>Super Shy</td>\n",
       "    </tr>\n",
       "    <tr>\n",
       "      <th>2</th>\n",
       "      <td>NewJeans</td>\n",
       "      <td>ETA</td>\n",
       "    </tr>\n",
       "    <tr>\n",
       "      <th>3</th>\n",
       "      <td>박재정</td>\n",
       "      <td>헤어지자 말해요</td>\n",
       "    </tr>\n",
       "    <tr>\n",
       "      <th>4</th>\n",
       "      <td>(여자)아이들</td>\n",
       "      <td>퀸카 (Queencard)</td>\n",
       "    </tr>\n",
       "    <tr>\n",
       "      <th>...</th>\n",
       "      <td>...</td>\n",
       "      <td>...</td>\n",
       "    </tr>\n",
       "    <tr>\n",
       "      <th>95</th>\n",
       "      <td>NCT DREAM</td>\n",
       "      <td>Yogurt Shake</td>\n",
       "    </tr>\n",
       "    <tr>\n",
       "      <th>96</th>\n",
       "      <td>Charlie Puth</td>\n",
       "      <td>That’s Not How This Works (feat. Dan + Shay)</td>\n",
       "    </tr>\n",
       "    <tr>\n",
       "      <th>97</th>\n",
       "      <td>던 (DAWN)</td>\n",
       "      <td>빛이 나는 너에게</td>\n",
       "    </tr>\n",
       "    <tr>\n",
       "      <th>98</th>\n",
       "      <td>(여자)아이들</td>\n",
       "      <td>Nxde</td>\n",
       "    </tr>\n",
       "    <tr>\n",
       "      <th>99</th>\n",
       "      <td>테이</td>\n",
       "      <td>Monologue</td>\n",
       "    </tr>\n",
       "  </tbody>\n",
       "</table>\n",
       "<p>100 rows × 2 columns</p>\n",
       "</div>"
      ],
      "text/plain": [
       "            가수이름                                          노래제목\n",
       "0             정국              Seven (feat. Latto) - Clean Ver.\n",
       "1       NewJeans                                     Super Shy\n",
       "2       NewJeans                                           ETA\n",
       "3            박재정                                      헤어지자 말해요\n",
       "4        (여자)아이들                                퀸카 (Queencard)\n",
       "..           ...                                           ...\n",
       "95     NCT DREAM                                  Yogurt Shake\n",
       "96  Charlie Puth  That’s Not How This Works (feat. Dan + Shay)\n",
       "97      던 (DAWN)                                     빛이 나는 너에게\n",
       "98       (여자)아이들                                          Nxde\n",
       "99            테이                                     Monologue\n",
       "\n",
       "[100 rows x 2 columns]"
      ]
     },
     "execution_count": 45,
     "metadata": {},
     "output_type": "execute_result"
    }
   ],
   "source": [
    "dic = {\"가수이름\" : singer_list, \"노래제목\" : song_list}\n",
    "melon = pd.DataFrame(dic)\n",
    "melon"
   ]
  },
  {
   "cell_type": "code",
   "execution_count": 44,
   "id": "f94cea01",
   "metadata": {},
   "outputs": [],
   "source": [
    "# 7. 파일로 제작\n",
    "# 인코딩 작업 -> 한글이 깨지지 않게 반드시 해줘야한다\n",
    "# 1. utf-8\n",
    "# 2. euc-kr\n",
    "# 3. utf-8-sig\n",
    "melon.to_csv(\"멜론차트.csv\", encoding = \"euc-kr\")"
   ]
  },
  {
   "cell_type": "code",
   "execution_count": 46,
   "id": "de6a1ccc",
   "metadata": {},
   "outputs": [],
   "source": [
    "melon.to_html(\"멜론차트.html\", encoding = \"euc-kr\")"
   ]
  },
  {
   "cell_type": "code",
   "execution_count": null,
   "id": "86ad8520",
   "metadata": {},
   "outputs": [],
   "source": []
  },
  {
   "cell_type": "code",
   "execution_count": null,
   "id": "cd17fbcf",
   "metadata": {},
   "outputs": [],
   "source": []
  }
 ],
 "metadata": {
  "kernelspec": {
   "display_name": "Python 3 (ipykernel)",
   "language": "python",
   "name": "python3"
  },
  "language_info": {
   "codemirror_mode": {
    "name": "ipython",
    "version": 3
   },
   "file_extension": ".py",
   "mimetype": "text/x-python",
   "name": "python",
   "nbconvert_exporter": "python",
   "pygments_lexer": "ipython3",
   "version": "3.10.9"
  }
 },
 "nbformat": 4,
 "nbformat_minor": 5
}
