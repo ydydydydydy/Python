{
 "cells": [
  {
   "cell_type": "code",
   "execution_count": 19,
   "id": "9cb8a3e1",
   "metadata": {},
   "outputs": [],
   "source": [
    "import requests as req\n",
    "from bs4 import BeautifulSoup as bs"
   ]
  },
  {
   "cell_type": "code",
   "execution_count": 20,
   "id": "0e7b9092",
   "metadata": {},
   "outputs": [
    {
     "data": {
      "text/plain": [
       "<Response [200]>"
      ]
     },
     "execution_count": 20,
     "metadata": {},
     "output_type": "execute_result"
    }
   ],
   "source": [
    "# 1. req를 통해서 멜론차트 정보를 요청(클라이언트(사용자))\n",
    "#   - 서버(웹페이지): 요청받은 값에 대한 정보를 클라이언트에게 제공\n",
    "#                    이미지, 동영상, 글자, 화면 / html 문서로 넘어옴\n",
    "# python의 requests가 하는 건 중간에 넘어오고 있는 html문서 가져오기\n",
    "head = {'User-Agent':'Mozilla/5.0 (Windows NT 10.0; Win64; x64) AppleWebKit/537.36 (KHTML, like Gecko) Chrome/116.0.0.0 Safari/537.36'}\n",
    "res = req.get(\"https://www.melon.com/chart/index.htm\", headers = head)\n",
    "res\n",
    "# 프로그래밍 언어로 접근을 하면 웹페이지가 접근을 막음\n",
    "# header = 가면(크롬의 가면을 쓴 프로그래밍언어로 접근)"
   ]
  },
  {
   "cell_type": "code",
   "execution_count": 21,
   "id": "4e0ceb3b",
   "metadata": {},
   "outputs": [],
   "source": [
    "# 2. bs을 통해서 문자열 데이터를 html데이터로 변형\n",
    "soup = bs(res.text, \"lxml\")"
   ]
  },
  {
   "cell_type": "code",
   "execution_count": 22,
   "id": "c0ec1fa9",
   "metadata": {},
   "outputs": [
    {
     "data": {
      "text/plain": [
       "100"
      ]
     },
     "execution_count": 22,
     "metadata": {},
     "output_type": "execute_result"
    }
   ],
   "source": [
    "# 3. 노래제목 수집\n",
    "# 클래스값 중간에 공백이 있다는 건 -> 클래스가 복수개다\n",
    "# 공백을 지우고 반드시 . 으로 이어준다\n",
    "# ex) div class = ellipsis rank01 --> ellipsis 와 rank01 이라는 두 개의 클래스를 의미 --> ellipsis.rank01\n",
    "# 노래 제목을 가지고 있는 태그들을 가져오기\n",
    "song = soup.select(\"div.ellipsis.rank01 > span > a\")\n",
    "song"
   ]
  },
  {
   "cell_type": "code",
   "execution_count": 23,
   "id": "9c38adfd",
   "metadata": {
    "scrolled": true
   },
   "outputs": [
    {
     "name": "stdout",
     "output_type": "stream",
     "text": [
      "Seven (feat. Latto) - Clean Ver.\n",
      "ETA\n",
      "Super Shy\n",
      "헤어지자 말해요\n",
      "사막에서 꽃을 피우듯\n",
      "퀸카 (Queencard)\n",
      "Fast Forward\n",
      "I AM\n",
      "Steal The Show (From “엘리멘탈”)\n",
      "New Jeans\n",
      "Spicy\n",
      "모래 알갱이\n",
      "이브, 프시케 그리고 푸른 수염의 아내\n",
      "사랑은 늘 도망가\n",
      "Love Lee\n",
      "Hype boy\n",
      "Still With You\n",
      "Kitsch\n",
      "우리들의 블루스\n",
      "Summer (Feat. BE’O (비오))\n",
      "다시 만날 수 있을까\n",
      "UNFORGIVEN (feat. Nile Rodgers)\n",
      "Ditto\n",
      "무지개\n",
      "이제 나만 믿어요\n",
      "London Boy\n",
      "아버지\n",
      "Cool With You\n",
      "Polaroid\n",
      "Bubble\n",
      "인생찬가\n",
      "Attention\n",
      "손오공\n",
      "CAKE\n",
      "후라이의 꿈\n",
      "A bientot\n",
      "손이 참 곱던 그대\n",
      "OMG\n",
      "사랑해 진짜\n",
      "연애편지\n",
      "사건의 지평선\n",
      "After LIKE\n",
      "Love Me Again\n",
      "Dynamite\n",
      "I Don't Think That I Like Her\n",
      "보금자리\n",
      "LOVE DIVE\n",
      "꽃\n",
      "파이팅 해야지 (Feat. 이영지)\n",
      "Take Two\n",
      "KIDDING\n",
      "Dangerously\n",
      "나에게 그대만이\n",
      "사랑하지 않아서 그랬어\n",
      "Happiness\n",
      "심(心)\n",
      "Teddy Bear\n",
      "너의 모든 순간\n",
      "ISTJ\n",
      "여름이 들려 (Summer Comes)\n",
      "민들레 (single ver.)\n",
      "봄날\n",
      "잠깐 시간 될까\n",
      "사랑인가 봐\n",
      "건물 사이에 피어난 장미 (Rose Blossom)\n",
      "사실말야내가말야그게그러니까말이야\n",
      "ASAP\n",
      "Like Crazy\n",
      "Dreamers [Music from the FIFA World Cup Qatar 2022 Official Soundtrack] (Feat. FIFA Sound)\n",
      "미친 사랑의 노래\n",
      "사람 Pt.2 (feat. 아이유)\n",
      "Candy\n",
      "Butter\n",
      "Cupid\n",
      "물론\n",
      "ANTIFRAGILE\n",
      "첫 키스에 내 심장은 120BPM\n",
      "I WANT\n",
      "사랑의 바보\n",
      "Rainy Days\n",
      "사랑..그게 뭔데\n",
      "Allergy\n",
      "In Bloom\n",
      "Permission to Dance\n",
      "잘 지내자, 우리 (여름날 우리 X 로이킴)\n",
      "취중고백\n",
      "STAY\n",
      "Yogurt Shake\n",
      "다정히 내 이름을 부르면\n",
      "on the street (with J. Cole)\n",
      "그중에 그대를 만나\n",
      "해요 (2022)\n",
      "Broken Melodies\n",
      "That's Hilarious\n",
      "That’s Not How This Works (feat. Dan + Shay)\n",
      "TOMBOY\n",
      "Heaven(2023)\n",
      "빛이 나는 너에게\n",
      "LOCKDOWN\n",
      "Monologue\n"
     ]
    }
   ],
   "source": [
    "for s in song : #에는 1개의 태그정보가 담겨있음\n",
    "    print(s.text) # s에 담겨있는 content 가져오기"
   ]
  },
  {
   "cell_type": "code",
   "execution_count": 24,
   "id": "92540395",
   "metadata": {},
   "outputs": [
    {
     "data": {
      "text/plain": [
       "[<span class=\"checkEllipsis\" style=\"display:none\"><a href=\"javascript:melon.link.goArtistDetail('725987');\" title=\"정국 - 페이지 이동\">정국</a></span>,\n",
       " <span class=\"checkEllipsis\" style=\"display:none\"><a href=\"javascript:melon.link.goArtistDetail('3114174');\" title=\"NewJeans - 페이지 이동\">NewJeans</a></span>,\n",
       " <span class=\"checkEllipsis\" style=\"display:none\"><a href=\"javascript:melon.link.goArtistDetail('3114174');\" title=\"NewJeans - 페이지 이동\">NewJeans</a></span>,\n",
       " <span class=\"checkEllipsis\" style=\"display:none\"><a href=\"javascript:melon.link.goArtistDetail('738480');\" title=\"박재정 - 페이지 이동\">박재정</a></span>,\n",
       " <span class=\"checkEllipsis\" style=\"display:none\"><a href=\"javascript:melon.link.goArtistDetail('673033');\" title=\"우디 (Woody) - 페이지 이동\">우디 (Woody)</a></span>,\n",
       " <span class=\"checkEllipsis\" style=\"display:none\"><a href=\"javascript:melon.link.goArtistDetail('2137482');\" title=\"(여자)아이들 - 페이지 이동\">(여자)아이들</a></span>,\n",
       " <span class=\"checkEllipsis\" style=\"display:none\"><a href=\"javascript:melon.link.goArtistDetail('968260');\" title=\"전소미 - 페이지 이동\">전소미</a></span>,\n",
       " <span class=\"checkEllipsis\" style=\"display:none\"><a href=\"javascript:melon.link.goArtistDetail('3055146');\" title=\"IVE (아이브) - 페이지 이동\">IVE (아이브)</a></span>,\n",
       " <span class=\"checkEllipsis\" style=\"display:none\"><a href=\"javascript:melon.link.goArtistDetail('1956543');\" title=\"Lauv - 페이지 이동\">Lauv</a></span>,\n",
       " <span class=\"checkEllipsis\" style=\"display:none\"><a href=\"javascript:melon.link.goArtistDetail('3114174');\" title=\"NewJeans - 페이지 이동\">NewJeans</a></span>,\n",
       " <span class=\"checkEllipsis\" style=\"display:none\"><a href=\"javascript:melon.link.goArtistDetail('2899555');\" title=\"aespa - 페이지 이동\">aespa</a></span>,\n",
       " <span class=\"checkEllipsis\" style=\"display:none\"><a href=\"javascript:melon.link.goArtistDetail('994944');\" title=\"임영웅 - 페이지 이동\">임영웅</a></span>,\n",
       " <span class=\"checkEllipsis\" style=\"display:none\"><a href=\"javascript:melon.link.goArtistDetail('3092950');\" title=\"LE SSERAFIM (르세라핌) - 페이지 이동\">LE SSERAFIM (르세라핌)</a></span>,\n",
       " <span class=\"checkEllipsis\" style=\"display:none\"><a href=\"javascript:melon.link.goArtistDetail('994944');\" title=\"임영웅 - 페이지 이동\">임영웅</a></span>,\n",
       " <span class=\"checkEllipsis\" style=\"display:none\"><a href=\"javascript:melon.link.goArtistDetail('712452');\" title=\"AKMU (악뮤) - 페이지 이동\">AKMU (악뮤)</a></span>,\n",
       " <span class=\"checkEllipsis\" style=\"display:none\"><a href=\"javascript:melon.link.goArtistDetail('3114174');\" title=\"NewJeans - 페이지 이동\">NewJeans</a></span>,\n",
       " <span class=\"checkEllipsis\" style=\"display:none\"><a href=\"javascript:melon.link.goArtistDetail('725987');\" title=\"정국 - 페이지 이동\">정국</a></span>,\n",
       " <span class=\"checkEllipsis\" style=\"display:none\"><a href=\"javascript:melon.link.goArtistDetail('3055146');\" title=\"IVE (아이브) - 페이지 이동\">IVE (아이브)</a></span>,\n",
       " <span class=\"checkEllipsis\" style=\"display:none\"><a href=\"javascript:melon.link.goArtistDetail('994944');\" title=\"임영웅 - 페이지 이동\">임영웅</a></span>,\n",
       " <span class=\"checkEllipsis\" style=\"display:none\"><a href=\"javascript:melon.link.goArtistDetail('943079');\" title=\"Paul Blanco - 페이지 이동\">Paul Blanco</a></span>,\n",
       " <span class=\"checkEllipsis\" style=\"display:none\"><a href=\"javascript:melon.link.goArtistDetail('994944');\" title=\"임영웅 - 페이지 이동\">임영웅</a></span>,\n",
       " <span class=\"checkEllipsis\" style=\"display:none\"><a href=\"javascript:melon.link.goArtistDetail('3092950');\" title=\"LE SSERAFIM (르세라핌) - 페이지 이동\">LE SSERAFIM (르세라핌)</a></span>,\n",
       " <span class=\"checkEllipsis\" style=\"display:none\"><a href=\"javascript:melon.link.goArtistDetail('3114174');\" title=\"NewJeans - 페이지 이동\">NewJeans</a></span>,\n",
       " <span class=\"checkEllipsis\" style=\"display:none\"><a href=\"javascript:melon.link.goArtistDetail('994944');\" title=\"임영웅 - 페이지 이동\">임영웅</a></span>,\n",
       " <span class=\"checkEllipsis\" style=\"display:none\"><a href=\"javascript:melon.link.goArtistDetail('994944');\" title=\"임영웅 - 페이지 이동\">임영웅</a></span>,\n",
       " <span class=\"checkEllipsis\" style=\"display:none\"><a href=\"javascript:melon.link.goArtistDetail('994944');\" title=\"임영웅 - 페이지 이동\">임영웅</a></span>,\n",
       " <span class=\"checkEllipsis\" style=\"display:none\"><a href=\"javascript:melon.link.goArtistDetail('994944');\" title=\"임영웅 - 페이지 이동\">임영웅</a></span>,\n",
       " <span class=\"checkEllipsis\" style=\"display:none\"><a href=\"javascript:melon.link.goArtistDetail('3114174');\" title=\"NewJeans - 페이지 이동\">NewJeans</a></span>,\n",
       " <span class=\"checkEllipsis\" style=\"display:none\"><a href=\"javascript:melon.link.goArtistDetail('994944');\" title=\"임영웅 - 페이지 이동\">임영웅</a></span>,\n",
       " <span class=\"checkEllipsis\" style=\"display:none\"><a href=\"javascript:melon.link.goArtistDetail('2899290');\" title=\"STAYC(스테이씨) - 페이지 이동\">STAYC(스테이씨)</a></span>,\n",
       " <span class=\"checkEllipsis\" style=\"display:none\"><a href=\"javascript:melon.link.goArtistDetail('994944');\" title=\"임영웅 - 페이지 이동\">임영웅</a></span>,\n",
       " <span class=\"checkEllipsis\" style=\"display:none\"><a href=\"javascript:melon.link.goArtistDetail('3114174');\" title=\"NewJeans - 페이지 이동\">NewJeans</a></span>,\n",
       " <span class=\"checkEllipsis\" style=\"display:none\"><a href=\"javascript:melon.link.goArtistDetail('861436');\" title=\"세븐틴 (SEVENTEEN) - 페이지 이동\">세븐틴 (SEVENTEEN)</a></span>,\n",
       " <span class=\"checkEllipsis\" style=\"display:none\"><a href=\"javascript:melon.link.goArtistDetail('2622030');\" title=\"ITZY (있지) - 페이지 이동\">ITZY (있지)</a></span>,\n",
       " <span class=\"checkEllipsis\" style=\"display:none\"><a href=\"javascript:melon.link.goArtistDetail('712452');\" title=\"AKMU (악뮤) - 페이지 이동\">AKMU (악뮤)</a></span>,\n",
       " <span class=\"checkEllipsis\" style=\"display:none\"><a href=\"javascript:melon.link.goArtistDetail('994944');\" title=\"임영웅 - 페이지 이동\">임영웅</a></span>,\n",
       " <span class=\"checkEllipsis\" style=\"display:none\"><a href=\"javascript:melon.link.goArtistDetail('994944');\" title=\"임영웅 - 페이지 이동\">임영웅</a></span>,\n",
       " <span class=\"checkEllipsis\" style=\"display:none\"><a href=\"javascript:melon.link.goArtistDetail('3114174');\" title=\"NewJeans - 페이지 이동\">NewJeans</a></span>,\n",
       " <span class=\"checkEllipsis\" style=\"display:none\"><a href=\"javascript:melon.link.goArtistDetail('994944');\" title=\"임영웅 - 페이지 이동\">임영웅</a></span>,\n",
       " <span class=\"checkEllipsis\" style=\"display:none\"><a href=\"javascript:melon.link.goArtistDetail('994944');\" title=\"임영웅 - 페이지 이동\">임영웅</a></span>,\n",
       " <span class=\"checkEllipsis\" style=\"display:none\"><a href=\"javascript:melon.link.goArtistDetail('203912');\" title=\"윤하 (YOUNHA) - 페이지 이동\">윤하 (YOUNHA)</a></span>,\n",
       " <span class=\"checkEllipsis\" style=\"display:none\"><a href=\"javascript:melon.link.goArtistDetail('3055146');\" title=\"IVE (아이브) - 페이지 이동\">IVE (아이브)</a></span>,\n",
       " <span class=\"checkEllipsis\" style=\"display:none\"><a href=\"javascript:melon.link.goArtistDetail('725989');\" title=\"V - 페이지 이동\">V</a></span>,\n",
       " <span class=\"checkEllipsis\" style=\"display:none\"><a href=\"javascript:melon.link.goArtistDetail('672375');\" title=\"방탄소년단 - 페이지 이동\">방탄소년단</a></span>,\n",
       " <span class=\"checkEllipsis\" style=\"display:none\"><a href=\"javascript:melon.link.goArtistDetail('838654');\" title=\"Charlie Puth - 페이지 이동\">Charlie Puth</a></span>,\n",
       " <span class=\"checkEllipsis\" style=\"display:none\"><a href=\"javascript:melon.link.goArtistDetail('994944');\" title=\"임영웅 - 페이지 이동\">임영웅</a></span>,\n",
       " <span class=\"checkEllipsis\" style=\"display:none\"><a href=\"javascript:melon.link.goArtistDetail('3055146');\" title=\"IVE (아이브) - 페이지 이동\">IVE (아이브)</a></span>,\n",
       " <span class=\"checkEllipsis\" style=\"display:none\"><a href=\"javascript:melon.link.goArtistDetail('995174');\" title=\"지수 (JISOO) - 페이지 이동\">지수 (JISOO)</a></span>,\n",
       " <span class=\"checkEllipsis\" style=\"display:none\"><a href=\"javascript:melon.link.goArtistDetail('2112233');\" title=\"부석순 (SEVENTEEN) - 페이지 이동\">부석순 (SEVENTEEN)</a></span>,\n",
       " <span class=\"checkEllipsis\" style=\"display:none\"><a href=\"javascript:melon.link.goArtistDetail('672375');\" title=\"방탄소년단 - 페이지 이동\">방탄소년단</a></span>,\n",
       " <span class=\"checkEllipsis\" style=\"display:none\"><a href=\"javascript:melon.link.goArtistDetail('3059851');\" title=\"이세계아이돌 - 페이지 이동\">이세계아이돌</a></span>,\n",
       " <span class=\"checkEllipsis\" style=\"display:none\"><a href=\"javascript:melon.link.goArtistDetail('838654');\" title=\"Charlie Puth - 페이지 이동\">Charlie Puth</a></span>,\n",
       " <span class=\"checkEllipsis\" style=\"display:none\"><a href=\"javascript:melon.link.goArtistDetail('2893700');\" title=\"탑현 - 페이지 이동\">탑현</a></span>,\n",
       " <span class=\"checkEllipsis\" style=\"display:none\"><a href=\"javascript:melon.link.goArtistDetail('471741');\" title=\"임한별 - 페이지 이동\">임한별</a></span>,\n",
       " <span class=\"checkEllipsis\" style=\"display:none\"><a href=\"javascript:melon.link.goArtistDetail('3480275');\" title=\"허용별 (허각, 신용재, 임한별) - 페이지 이동\">허용별 (허각, 신용재, 임한별)</a></span>,\n",
       " <span class=\"checkEllipsis\" style=\"display:none\"><a href=\"javascript:melon.link.goArtistDetail('524801');\" title=\"DK(디셈버) - 페이지 이동\">DK(디셈버)</a></span>,\n",
       " <span class=\"checkEllipsis\" style=\"display:none\"><a href=\"javascript:melon.link.goArtistDetail('2899290');\" title=\"STAYC(스테이씨) - 페이지 이동\">STAYC(스테이씨)</a></span>,\n",
       " <span class=\"checkEllipsis\" style=\"display:none\"><a href=\"javascript:melon.link.goArtistDetail('3305');\" title=\"성시경 - 페이지 이동\">성시경</a></span>,\n",
       " <span class=\"checkEllipsis\" style=\"display:none\"><a href=\"javascript:melon.link.goArtistDetail('1066419');\" title=\"NCT DREAM - 페이지 이동\">NCT DREAM</a></span>,\n",
       " <span class=\"checkEllipsis\" style=\"display:none\"><a href=\"javascript:melon.link.goArtistDetail('857994');\" title=\"오마이걸 (OH MY GIRL) - 페이지 이동\">오마이걸 (OH MY GIRL)</a></span>,\n",
       " <span class=\"checkEllipsis\" style=\"display:none\"><a href=\"javascript:melon.link.goArtistDetail('773385');\" title=\"우효 - 페이지 이동\">우효</a></span>,\n",
       " <span class=\"checkEllipsis\" style=\"display:none\"><a href=\"javascript:melon.link.goArtistDetail('672375');\" title=\"방탄소년단 - 페이지 이동\">방탄소년단</a></span>,\n",
       " <span class=\"checkEllipsis\" style=\"display:none\"><a href=\"javascript:melon.link.goArtistDetail('2138620');\" title=\"이무진 - 페이지 이동\">이무진</a></span>,\n",
       " <span class=\"checkEllipsis\" style=\"display:none\"><a href=\"javascript:melon.link.goArtistDetail('839732');\" title=\"멜로망스 - 페이지 이동\">멜로망스</a></span>,\n",
       " <span class=\"checkEllipsis\" style=\"display:none\"><a href=\"javascript:melon.link.goArtistDetail('3064111');\" title=\"H1-KEY (하이키) - 페이지 이동\">H1-KEY (하이키)</a></span>,\n",
       " <span class=\"checkEllipsis\" style=\"display:none\"><a href=\"javascript:melon.link.goArtistDetail('858125');\" title=\"케이시 (Kassy) - 페이지 이동\">케이시 (Kassy)</a></span>,\n",
       " <span class=\"checkEllipsis\" style=\"display:none\"><a href=\"javascript:melon.link.goArtistDetail('3114174');\" title=\"NewJeans - 페이지 이동\">NewJeans</a></span>,\n",
       " <span class=\"checkEllipsis\" style=\"display:none\"><a href=\"javascript:melon.link.goArtistDetail('725985');\" title=\"지민 - 페이지 이동\">지민</a></span>,\n",
       " <span class=\"checkEllipsis\" style=\"display:none\"><a href=\"javascript:melon.link.goArtistDetail('725987');\" title=\"정국 - 페이지 이동\">정국</a>, <a href=\"javascript:melon.link.goArtistDetail('672375');\" title=\"방탄소년단 - 페이지 이동\">방탄소년단</a></span>,\n",
       " <span class=\"checkEllipsis\" style=\"display:none\"><a href=\"javascript:melon.link.goArtistDetail('428803');\" title=\"김연지 - 페이지 이동\">김연지</a>, <a href=\"javascript:melon.link.goArtistDetail('524801');\" title=\"DK(디셈버) - 페이지 이동\">DK(디셈버)</a></span>,\n",
       " <span class=\"checkEllipsis\" style=\"display:none\"><a href=\"javascript:melon.link.goArtistDetail('725988');\" title=\"Agust D - 페이지 이동\">Agust D</a></span>,\n",
       " <span class=\"checkEllipsis\" style=\"display:none\"><a href=\"javascript:melon.link.goArtistDetail('1066419');\" title=\"NCT DREAM - 페이지 이동\">NCT DREAM</a></span>,\n",
       " <span class=\"checkEllipsis\" style=\"display:none\"><a href=\"javascript:melon.link.goArtistDetail('672375');\" title=\"방탄소년단 - 페이지 이동\">방탄소년단</a></span>,\n",
       " <span class=\"checkEllipsis\" style=\"display:none\"><a href=\"javascript:melon.link.goArtistDetail('3156910');\" title=\"FIFTY FIFTY - 페이지 이동\">FIFTY FIFTY</a></span>,\n",
       " <span class=\"checkEllipsis\" style=\"display:none\"><a href=\"javascript:melon.link.goArtistDetail('28801');\" title=\"허각 - 페이지 이동\">허각</a></span>,\n",
       " <span class=\"checkEllipsis\" style=\"display:none\"><a href=\"javascript:melon.link.goArtistDetail('3092950');\" title=\"LE SSERAFIM (르세라핌) - 페이지 이동\">LE SSERAFIM (르세라핌)</a></span>,\n",
       " <span class=\"checkEllipsis\" style=\"display:none\"><a href=\"javascript:melon.link.goArtistDetail('994005');\" title=\"경서 - 페이지 이동\">경서</a></span>,\n",
       " <span class=\"checkEllipsis\" style=\"display:none\"><a href=\"javascript:melon.link.goArtistDetail('3055146');\" title=\"IVE (아이브) - 페이지 이동\">IVE (아이브)</a></span>,\n",
       " <span class=\"checkEllipsis\" style=\"display:none\"><a href=\"javascript:melon.link.goArtistDetail('484881');\" title=\"제이세라 - 페이지 이동\">제이세라</a></span>,\n",
       " <span class=\"checkEllipsis\" style=\"display:none\"><a href=\"javascript:melon.link.goArtistDetail('725989');\" title=\"V - 페이지 이동\">V</a></span>,\n",
       " <span class=\"checkEllipsis\" style=\"display:none\"><a href=\"javascript:melon.link.goArtistDetail('227595');\" title=\"지아 - 페이지 이동\">지아</a></span>,\n",
       " <span class=\"checkEllipsis\" style=\"display:none\"><a href=\"javascript:melon.link.goArtistDetail('2137482');\" title=\"(여자)아이들 - 페이지 이동\">(여자)아이들</a></span>,\n",
       " <span class=\"checkEllipsis\" style=\"display:none\"><a href=\"javascript:melon.link.goArtistDetail('3466604');\" title=\"ZEROBASEONE (제로베이스원) - 페이지 이동\">ZEROBASEONE (제로베이스원)</a></span>,\n",
       " <span class=\"checkEllipsis\" style=\"display:none\"><a href=\"javascript:melon.link.goArtistDetail('672375');\" title=\"방탄소년단 - 페이지 이동\">방탄소년단</a></span>,\n",
       " <span class=\"checkEllipsis\" style=\"display:none\"><a href=\"javascript:melon.link.goArtistDetail('699632');\" title=\"로이킴 - 페이지 이동\">로이킴</a></span>,\n",
       " <span class=\"checkEllipsis\" style=\"display:none\"><a href=\"javascript:melon.link.goArtistDetail('839736');\" title=\"김민석 (멜로망스) - 페이지 이동\">김민석 (멜로망스)</a></span>,\n",
       " <span class=\"checkEllipsis\" style=\"display:none\"><a href=\"javascript:melon.link.goArtistDetail('2743730');\" title=\"The Kid LAROI - 페이지 이동\">The Kid LAROI</a>, <a href=\"javascript:melon.link.goArtistDetail('420621');\" title=\"Justin Bieber - 페이지 이동\">Justin Bieber</a></span>,\n",
       " <span class=\"checkEllipsis\" style=\"display:none\"><a href=\"javascript:melon.link.goArtistDetail('1066419');\" title=\"NCT DREAM - 페이지 이동\">NCT DREAM</a></span>,\n",
       " <span class=\"checkEllipsis\" style=\"display:none\"><a href=\"javascript:melon.link.goArtistDetail('2863470');\" title=\"경서예지 - 페이지 이동\">경서예지</a>, <a href=\"javascript:melon.link.goArtistDetail('2739011');\" title=\"전건호 - 페이지 이동\">전건호</a></span>,\n",
       " <span class=\"checkEllipsis\" style=\"display:none\"><a href=\"javascript:melon.link.goArtistDetail('725984');\" title=\"j-hope - 페이지 이동\">j-hope</a>, <a href=\"javascript:melon.link.goArtistDetail('552102');\" title=\"J. Cole - 페이지 이동\">J. Cole</a></span>,\n",
       " <span class=\"checkEllipsis\" style=\"display:none\"><a href=\"javascript:melon.link.goArtistDetail('720018');\" title=\"김호중 - 페이지 이동\">김호중</a></span>,\n",
       " <span class=\"checkEllipsis\" style=\"display:none\"><a href=\"javascript:melon.link.goArtistDetail('1024489');\" title=\"#안녕 - 페이지 이동\">#안녕</a></span>,\n",
       " <span class=\"checkEllipsis\" style=\"display:none\"><a href=\"javascript:melon.link.goArtistDetail('1066419');\" title=\"NCT DREAM - 페이지 이동\">NCT DREAM</a></span>,\n",
       " <span class=\"checkEllipsis\" style=\"display:none\"><a href=\"javascript:melon.link.goArtistDetail('838654');\" title=\"Charlie Puth - 페이지 이동\">Charlie Puth</a></span>,\n",
       " <span class=\"checkEllipsis\" style=\"display:none\"><a href=\"javascript:melon.link.goArtistDetail('838654');\" title=\"Charlie Puth - 페이지 이동\">Charlie Puth</a></span>,\n",
       " <span class=\"checkEllipsis\" style=\"display:none\"><a href=\"javascript:melon.link.goArtistDetail('2137482');\" title=\"(여자)아이들 - 페이지 이동\">(여자)아이들</a></span>,\n",
       " <span class=\"checkEllipsis\" style=\"display:none\"><a href=\"javascript:melon.link.goArtistDetail('2087273');\" title=\"임재현 - 페이지 이동\">임재현</a></span>,\n",
       " <span class=\"checkEllipsis\" style=\"display:none\"><a href=\"javascript:melon.link.goArtistDetail('991776');\" title=\"던 (DAWN) - 페이지 이동\">던 (DAWN)</a></span>,\n",
       " <span class=\"checkEllipsis\" style=\"display:none\"><a href=\"javascript:melon.link.goArtistDetail('3059851');\" title=\"이세계아이돌 - 페이지 이동\">이세계아이돌</a></span>,\n",
       " <span class=\"checkEllipsis\" style=\"display:none\"><a href=\"javascript:melon.link.goArtistDetail('51893');\" title=\"테이 - 페이지 이동\">테이</a></span>]"
      ]
     },
     "execution_count": 24,
     "metadata": {},
     "output_type": "execute_result"
    }
   ],
   "source": [
    "# 4. 가수이름 수집 (span.checkEllipsis -> 가수 이름이 두 번씩 출력되는 걸 방지)\n",
    "singer = soup.select(\"div.ellipsis.rank02 > span.checkEllipsis\")\n",
    "singer"
   ]
  },
  {
   "cell_type": "code",
   "execution_count": 25,
   "id": "38777cdb",
   "metadata": {
    "scrolled": true
   },
   "outputs": [
    {
     "data": {
      "text/plain": [
       "100"
      ]
     },
     "execution_count": 25,
     "metadata": {},
     "output_type": "execute_result"
    }
   ],
   "source": [
    "# 데이터의 개수가 정해진 경우에는 반드시 데이터 검증이 필요하다\n",
    "# (데이터의 길이, 데이터의 중복여부)\n",
    "len(song)\n",
    "len(singer)"
   ]
  },
  {
   "cell_type": "code",
   "execution_count": 26,
   "id": "f75e5d99",
   "metadata": {},
   "outputs": [],
   "source": [
    "# 5. 수집된 데이터를 텍스트 정보만 추출해서 저장\n",
    "song_list = []\n",
    "singer_list = []\n",
    "for i in range(len(song)) :\n",
    "    song_list.append(song[i].text)\n",
    "    singer_list.append(singer[i].text)"
   ]
  },
  {
   "cell_type": "code",
   "execution_count": 27,
   "id": "626f3573",
   "metadata": {},
   "outputs": [],
   "source": [
    "# 6. 표를 제작\n",
    "import pandas as pd"
   ]
  },
  {
   "cell_type": "code",
   "execution_count": 28,
   "id": "2334f75a",
   "metadata": {},
   "outputs": [
    {
     "data": {
      "text/html": [
       "<div>\n",
       "<style scoped>\n",
       "    .dataframe tbody tr th:only-of-type {\n",
       "        vertical-align: middle;\n",
       "    }\n",
       "\n",
       "    .dataframe tbody tr th {\n",
       "        vertical-align: top;\n",
       "    }\n",
       "\n",
       "    .dataframe thead th {\n",
       "        text-align: right;\n",
       "    }\n",
       "</style>\n",
       "<table border=\"1\" class=\"dataframe\">\n",
       "  <thead>\n",
       "    <tr style=\"text-align: right;\">\n",
       "      <th></th>\n",
       "      <th>가수이름</th>\n",
       "      <th>노래제목</th>\n",
       "    </tr>\n",
       "  </thead>\n",
       "  <tbody>\n",
       "    <tr>\n",
       "      <th>0</th>\n",
       "      <td>정국</td>\n",
       "      <td>Seven (feat. Latto) - Clean Ver.</td>\n",
       "    </tr>\n",
       "    <tr>\n",
       "      <th>1</th>\n",
       "      <td>NewJeans</td>\n",
       "      <td>ETA</td>\n",
       "    </tr>\n",
       "    <tr>\n",
       "      <th>2</th>\n",
       "      <td>NewJeans</td>\n",
       "      <td>Super Shy</td>\n",
       "    </tr>\n",
       "    <tr>\n",
       "      <th>3</th>\n",
       "      <td>박재정</td>\n",
       "      <td>헤어지자 말해요</td>\n",
       "    </tr>\n",
       "    <tr>\n",
       "      <th>4</th>\n",
       "      <td>우디 (Woody)</td>\n",
       "      <td>사막에서 꽃을 피우듯</td>\n",
       "    </tr>\n",
       "    <tr>\n",
       "      <th>...</th>\n",
       "      <td>...</td>\n",
       "      <td>...</td>\n",
       "    </tr>\n",
       "    <tr>\n",
       "      <th>95</th>\n",
       "      <td>(여자)아이들</td>\n",
       "      <td>TOMBOY</td>\n",
       "    </tr>\n",
       "    <tr>\n",
       "      <th>96</th>\n",
       "      <td>임재현</td>\n",
       "      <td>Heaven(2023)</td>\n",
       "    </tr>\n",
       "    <tr>\n",
       "      <th>97</th>\n",
       "      <td>던 (DAWN)</td>\n",
       "      <td>빛이 나는 너에게</td>\n",
       "    </tr>\n",
       "    <tr>\n",
       "      <th>98</th>\n",
       "      <td>이세계아이돌</td>\n",
       "      <td>LOCKDOWN</td>\n",
       "    </tr>\n",
       "    <tr>\n",
       "      <th>99</th>\n",
       "      <td>테이</td>\n",
       "      <td>Monologue</td>\n",
       "    </tr>\n",
       "  </tbody>\n",
       "</table>\n",
       "<p>100 rows × 2 columns</p>\n",
       "</div>"
      ],
      "text/plain": [
       "          가수이름                              노래제목\n",
       "0           정국  Seven (feat. Latto) - Clean Ver.\n",
       "1     NewJeans                               ETA\n",
       "2     NewJeans                         Super Shy\n",
       "3          박재정                          헤어지자 말해요\n",
       "4   우디 (Woody)                       사막에서 꽃을 피우듯\n",
       "..         ...                               ...\n",
       "95     (여자)아이들                            TOMBOY\n",
       "96         임재현                      Heaven(2023)\n",
       "97    던 (DAWN)                         빛이 나는 너에게\n",
       "98      이세계아이돌                          LOCKDOWN\n",
       "99          테이                         Monologue\n",
       "\n",
       "[100 rows x 2 columns]"
      ]
     },
     "execution_count": 28,
     "metadata": {},
     "output_type": "execute_result"
    }
   ],
   "source": [
    "dic = {\"가수이름\" : singer_list, \"노래제목\" : song_list}\n",
    "melon = pd.DataFrame(dic)\n",
    "melon"
   ]
  },
  {
   "cell_type": "code",
   "execution_count": 29,
   "id": "f94cea01",
   "metadata": {},
   "outputs": [],
   "source": [
    "# 7. 파일로 제작\n",
    "# 인코딩 작업 -> 한글이 깨지지 않게 반드시 해줘야한다\n",
    "# 1. utf-8\n",
    "# 2. euc-kr\n",
    "# 3. utf-8-sig\n",
    "melon.to_csv(\"멜론차트.csv\", encoding = \"euc-kr\")"
   ]
  },
  {
   "cell_type": "code",
   "execution_count": 30,
   "id": "de6a1ccc",
   "metadata": {},
   "outputs": [],
   "source": [
    "melon.to_html(\"멜론차트.html\", encoding = \"euc-kr\")"
   ]
  },
  {
   "cell_type": "code",
   "execution_count": null,
   "id": "86ad8520",
   "metadata": {},
   "outputs": [],
   "source": []
  },
  {
   "cell_type": "code",
   "execution_count": null,
   "id": "cd17fbcf",
   "metadata": {},
   "outputs": [],
   "source": []
  }
 ],
 "metadata": {
  "kernelspec": {
   "display_name": "Python 3 (ipykernel)",
   "language": "python",
   "name": "python3"
  },
  "language_info": {
   "codemirror_mode": {
    "name": "ipython",
    "version": 3
   },
   "file_extension": ".py",
   "mimetype": "text/x-python",
   "name": "python",
   "nbconvert_exporter": "python",
   "pygments_lexer": "ipython3",
   "version": "3.10.9"
  }
 },
 "nbformat": 4,
 "nbformat_minor": 5
}
