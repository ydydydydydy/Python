{
 "cells": [
  {
   "cell_type": "code",
   "execution_count": 23,
   "id": "1b792e0e",
   "metadata": {},
   "outputs": [],
   "source": [
    "from selenium import webdriver as wb\n",
    "from selenium.webdriver.common.by import By\n",
    "import time\n",
    "from selenium.webdriver.common.keys import Keys"
   ]
  },
  {
   "cell_type": "code",
   "execution_count": 24,
   "id": "98f59281",
   "metadata": {},
   "outputs": [],
   "source": [
    "# 1. 크롬드라이버를 실행해서 네이버지도 사이트로 이동\n",
    "driver = wb.Chrome()\n",
    "driver.get(\"https://map.naver.com/p?c=15.00,0,0,0,dh\")"
   ]
  },
  {
   "cell_type": "code",
   "execution_count": 25,
   "id": "5f7294e1",
   "metadata": {},
   "outputs": [],
   "source": [
    "# 2. 검색창에 검색어를 입력(동명동 회식)\n",
    "# 검색창의 구분자인 id값이 실행할 때마다 변한다\n",
    "# 이런 경우 다른 선택자를 활용\n",
    "search = driver.find_element(By.CSS_SELECTOR,\".input_search\")\n",
    "search.send_keys(\"동명동 회식\")\n",
    "search.send_keys(Keys.ENTER)"
   ]
  },
  {
   "cell_type": "code",
   "execution_count": null,
   "id": "cf9ae836",
   "metadata": {},
   "outputs": [],
   "source": [
    "# \"미미원\"을 클릭해서 세부정보를 조회\n",
    "# 화면상에 데이터가 출력은 되는데 조작이 안 될때는 iframe을 검사하기\n",
    "# 1. req는 iframe src를 찾아간 곳에서 데이터 수집을 했다\n",
    "# 2. selenium에서는 현재 컴퓨터가 바라보고있는 html창을 변경"
   ]
  },
  {
   "cell_type": "code",
   "execution_count": 26,
   "id": "1da67995",
   "metadata": {},
   "outputs": [],
   "source": [
    "# 컴퓨터에게 바라고 있는 창을 원하는 iframe으로 변경\n",
    "# frame을 변경할 때는 -> switch_to.frame(\"iframe의 id\")\n",
    "driver.switch_to.frame(\"searchIframe\")"
   ]
  },
  {
   "cell_type": "code",
   "execution_count": 27,
   "id": "07c62674",
   "metadata": {},
   "outputs": [],
   "source": [
    "title = driver.find_elements(By.CSS_SELECTOR,\".place_bluelink.YwYLL\")\n",
    "title[0].click()"
   ]
  },
  {
   "cell_type": "code",
   "execution_count": 28,
   "id": "1a6da35b",
   "metadata": {},
   "outputs": [],
   "source": [
    "# 상세정보에서 가게 이름 정보 수집하려면 상세정보 iframe으로 화면을 이동시키기\n",
    "# 주의점\n",
    "# iframe에서 다른 iframe으로 바로 이동이 불가능\n",
    "# 원본 데이터로 이동하고 다른 iframe으로 이동\n",
    "driver.switch_to.default_content() # 원본 데이터"
   ]
  },
  {
   "cell_type": "code",
   "execution_count": 29,
   "id": "0877e1aa",
   "metadata": {},
   "outputs": [],
   "source": [
    "# 상세정보 iframe으로 이동\n",
    "driver.switch_to.frame('entryIframe')"
   ]
  },
  {
   "cell_type": "code",
   "execution_count": 30,
   "id": "38d6c7f4",
   "metadata": {},
   "outputs": [
    {
     "data": {
      "text/plain": [
       "'미미원'"
      ]
     },
     "execution_count": 30,
     "metadata": {},
     "output_type": "execute_result"
    }
   ],
   "source": [
    "# 상세정보에서 가게 이름 정보 수집\n",
    "name = driver.find_element(By.CSS_SELECTOR, \".Fc1rA\")\n",
    "name.text"
   ]
  },
  {
   "cell_type": "code",
   "execution_count": 33,
   "id": "192c49d2",
   "metadata": {},
   "outputs": [
    {
     "data": {
      "text/plain": [
       "'황톳길'"
      ]
     },
     "execution_count": 33,
     "metadata": {},
     "output_type": "execute_result"
    }
   ],
   "source": [
    "# 황톳길 (검색내용 2번째) 클릭 -> 가게 이름\n",
    "# 원본데이터 -> 검색프레임 -> 2번째 가게 클릭\n",
    "# -> 원본데이터 -> 상세정보프레임 -> 데이터수집\n",
    "driver.switch_to.default_content()\n",
    "driver.switch_to.frame(\"searchIframe\")\n",
    "time.sleep(1)\n",
    "title = driver.find_elements(By.CSS_SELECTOR,\".place_bluelink.YwYLL\")\n",
    "title[1].click()\n",
    "time.sleep(3)\n",
    "driver.switch_to.default_content()\n",
    "driver.switch_to.frame('entryIframe')\n",
    "time.sleep(1)\n",
    "name = driver.find_element(By.CSS_SELECTOR, \".Fc1rA\")\n",
    "name.text"
   ]
  }
 ],
 "metadata": {
  "kernelspec": {
   "display_name": "Python 3 (ipykernel)",
   "language": "python",
   "name": "python3"
  },
  "language_info": {
   "codemirror_mode": {
    "name": "ipython",
    "version": 3
   },
   "file_extension": ".py",
   "mimetype": "text/x-python",
   "name": "python",
   "nbconvert_exporter": "python",
   "pygments_lexer": "ipython3",
   "version": "3.10.9"
  }
 },
 "nbformat": 4,
 "nbformat_minor": 5
}
