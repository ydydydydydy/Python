{
 "cells": [
  {
   "cell_type": "code",
   "execution_count": 54,
   "id": "c86eaa93",
   "metadata": {},
   "outputs": [],
   "source": [
    "from selenium import webdriver as wb\n",
    "from selenium.webdriver.common.by import By\n",
    "from selenium.webdriver.common.keys import Keys\n"
   ]
  },
  {
   "cell_type": "code",
   "execution_count": 55,
   "id": "7667271d",
   "metadata": {},
   "outputs": [],
   "source": [
    "# 1. 브라우저를 실행하고 한솥사이트로 이동\n",
    "driver = wb.Chrome()\n",
    "driver.get(\"https://www.hsd.co.kr/menu/menu_list\")"
   ]
  },
  {
   "cell_type": "code",
   "execution_count": 56,
   "id": "ea348a97",
   "metadata": {},
   "outputs": [
    {
     "name": "stdout",
     "output_type": "stream",
     "text": [
      "오리 영양도시락\n",
      "통살 오징어튀김\n",
      "열무 감초고추장 비빔밥\n",
      "열무 두부강된장 비빔밥\n",
      "[8월할인메뉴] 토네이도 소세지\n",
      "[8월할인메뉴] 토핑-계란후라이\n",
      "[8월할인메뉴] 치킨2조각\n",
      "[8월할인메뉴] 토핑-스팸\n",
      "[8월할인메뉴] 빅치킨마요\n",
      "[8월할인메뉴] 치킨마요\n",
      "[8월할인메뉴] 카츠카츠 도시락\n",
      "[8월할인메뉴] 핫 치즈 닭갈비 덮밥\n",
      "[8월할인메뉴] 오리지널 치즈 닭갈비 덮밥\n",
      "[8월할인메뉴] 돈까스도련님 고기고기\n",
      "[8월행사메뉴] 숯불직화구이 덮밥\n",
      "[8월할인메뉴] 진달래\n",
      "[8월할인메뉴] 통현미 닭강정(소)\n",
      "[8월할인메뉴] 스팸 김치볶음밥\n"
     ]
    }
   ],
   "source": [
    "# 2. 상품이름 수집\n",
    "title = driver.find_elements(By.CSS_SELECTOR, \".h.fz_03\")\n",
    "for i in title :\n",
    "    print(i.text)"
   ]
  },
  {
   "cell_type": "code",
   "execution_count": 57,
   "id": "133b8e3a",
   "metadata": {},
   "outputs": [
    {
     "name": "stdout",
     "output_type": "stream",
     "text": [
      "6,900\n",
      "2,900\n",
      "4,500\n",
      "4,900\n",
      "1,000\n",
      "800\n",
      "1,300\n",
      "800\n",
      "3,600\n",
      "3,000\n",
      "3,900\n",
      "4,900\n",
      "4,900\n",
      "5,500\n",
      "4,900\n",
      "6,700\n",
      "2,900\n",
      "3,900\n"
     ]
    }
   ],
   "source": [
    "# 3. 상품가격 수집\n",
    "price = driver.find_elements(By.CSS_SELECTOR,\" div > div.item-text > div > strong\")\n",
    "for i in price :\n",
    "    print(i.text)"
   ]
  },
  {
   "cell_type": "code",
   "execution_count": 58,
   "id": "ed195dd8",
   "metadata": {},
   "outputs": [
    {
     "data": {
      "text/plain": [
       "18"
      ]
     },
     "execution_count": 58,
     "metadata": {},
     "output_type": "execute_result"
    }
   ],
   "source": [
    "len(title)"
   ]
  },
  {
   "cell_type": "code",
   "execution_count": 59,
   "id": "5a4cebbd",
   "metadata": {},
   "outputs": [],
   "source": [
    "# 더보기 버튼 클릭\n",
    "# 더보기를 클릭해야 최신의 데이터를 받아올 수 있다.\n",
    "btn = driver.find_element(By.CSS_SELECTOR, \".c_05\")\n",
    "btn.click()"
   ]
  },
  {
   "cell_type": "code",
   "execution_count": 60,
   "id": "7cd968c9",
   "metadata": {},
   "outputs": [],
   "source": [
    "# 더보기를 끝까지 반복\n",
    "for i in range(15):\n",
    "    btn = driver.find_element(By.CSS_SELECTOR, \".c_05\")\n",
    "    btn.click()"
   ]
  },
  {
   "cell_type": "markdown",
   "id": "4925fb36",
   "metadata": {},
   "source": [
    "### 예외처리\n",
    "- 코드를 실행하다가 에러가 나는 경우 에러가 아닌 다른 코드를 실행 \n",
    "- try = 에러가 나기 전까지 실행할 코드\n",
    "- except = 에러가 났을 때 실행할 코드"
   ]
  },
  {
   "cell_type": "code",
   "execution_count": null,
   "id": "6115255f",
   "metadata": {},
   "outputs": [],
   "source": [
    "# 셀레니움을 통해서 요청을 보낼때는 사람답게 코드를 짜기\n",
    "# 컴퓨터는 요청을 매우 빠르게 처리하기 때문에\n",
    "# 클라이언트가 서버에게 무리한 요청을 하면 서버는 부하를 느낌 -> 아이피 차단, 반응하기 전 오류가 남\n",
    "# time.sleep(\"초\") -> 해당하는 시간만큼 코드가 멈춘다\n",
    "# 반드시 요청과 응답이 있는 경우에 사용하는 걸 권장\n",
    "import time "
   ]
  },
  {
   "cell_type": "code",
   "execution_count": 61,
   "id": "e7e9665e",
   "metadata": {},
   "outputs": [
    {
     "name": "stdout",
     "output_type": "stream",
     "text": [
      "더보기가 없습니다.\n"
     ]
    }
   ],
   "source": [
    "try :\n",
    "    # 에러가 나기 전까지 실행할 코드\n",
    "    for i in range(15):\n",
    "        btn = driver.find_element(By.CSS_SELECTOR, \".c_05\")\n",
    "        btn.click()\n",
    "        time.sleep(3)\n",
    "except :\n",
    "    # 에러가 났을 때 실행할 코드\n",
    "    print(\"더보기가 없습니다.\")"
   ]
  },
  {
   "cell_type": "code",
   "execution_count": 62,
   "id": "14b8d3e9",
   "metadata": {},
   "outputs": [
    {
     "data": {
      "text/plain": [
       "367"
      ]
     },
     "execution_count": 62,
     "metadata": {},
     "output_type": "execute_result"
    }
   ],
   "source": [
    "title = driver.find_elements(By.CSS_SELECTOR, \".h.fz_03\")\n",
    "len(title)"
   ]
  },
  {
   "cell_type": "code",
   "execution_count": 63,
   "id": "0f070f18",
   "metadata": {},
   "outputs": [
    {
     "ename": "IndexError",
     "evalue": "list index out of range",
     "output_type": "error",
     "traceback": [
      "\u001b[1;31m---------------------------------------------------------------------------\u001b[0m",
      "\u001b[1;31mIndexError\u001b[0m                                Traceback (most recent call last)",
      "Cell \u001b[1;32mIn[63], line 6\u001b[0m\n\u001b[0;32m      4\u001b[0m \u001b[38;5;28;01mfor\u001b[39;00m i \u001b[38;5;129;01min\u001b[39;00m \u001b[38;5;28mrange\u001b[39m(\u001b[38;5;28mlen\u001b[39m(title)) :\n\u001b[0;32m      5\u001b[0m     title_list\u001b[38;5;241m.\u001b[39mappend(title[i]\u001b[38;5;241m.\u001b[39mtext)\n\u001b[1;32m----> 6\u001b[0m     price_list\u001b[38;5;241m.\u001b[39mappend(\u001b[43mprice\u001b[49m\u001b[43m[\u001b[49m\u001b[43mi\u001b[49m\u001b[43m]\u001b[49m\u001b[38;5;241m.\u001b[39mtext)\n",
      "\u001b[1;31mIndexError\u001b[0m: list index out of range"
     ]
    }
   ],
   "source": [
    "# 수집된 요소를 텍스트 데이터만 추출\n",
    "title_list = []\n",
    "price_list = []\n",
    "for i in range(len(title)) :\n",
    "    title_list.append(title[i].text)\n",
    "    price_list.append(price[i].text)"
   ]
  },
  {
   "cell_type": "markdown",
   "id": "218cc6fd",
   "metadata": {},
   "source": [
    "### 한셀에 코드 합치기\n",
    "- 프로그램(실행파일) 제작할 때는 반드시 코드를 한셀에 합쳐야 한다"
   ]
  },
  {
   "cell_type": "code",
   "execution_count": 65,
   "id": "e3a72e25",
   "metadata": {},
   "outputs": [
    {
     "name": "stdout",
     "output_type": "stream",
     "text": [
      "더보기가 없습니다.\n"
     ]
    }
   ],
   "source": [
    "from selenium import webdriver as wb\n",
    "from selenium.webdriver.common.by import By\n",
    "from selenium.webdriver.common.keys import Keys\n",
    "import time\n",
    "import pandas as pd\n",
    "\n",
    "driver = wb.Chrome()\n",
    "driver.get(\"https://www.hsd.co.kr/menu/menu_list\")\n",
    "\n",
    "try :\n",
    "    # 에러가 나기 전까지 실행할 코드\n",
    "    for i in range(15):\n",
    "        btn = driver.find_element(By.CSS_SELECTOR, \".c_05\")\n",
    "        btn.click()\n",
    "        time.sleep(3)\n",
    "except :\n",
    "    # 에러가 났을 때 실행할 코드\n",
    "    print(\"더보기가 없습니다.\")\n",
    "    \n",
    "title = driver.find_elements(By.CSS_SELECTOR, \".h.fz_03\")\n",
    "price = driver.find_elements(By.CSS_SELECTOR, \"div > div.item-text > div > strong\")\n",
    "\n",
    "title_list = []\n",
    "price_list = []\n",
    "for i in range(len(title)) :\n",
    "    title_list.append(title[i].text)\n",
    "    price_list.append(price[i].text)\n",
    "    \n",
    "dic = {\"상품명\" : title_list, \"가격정보\" : price_list}\n",
    "pd.DataFrame(dic)\n",
    "hansot = pd.DataFrame(dic)\n",
    "hansot.to_csv(\"한솥.csv\",encoding=\"euc-kr\")"
   ]
  },
  {
   "cell_type": "code",
   "execution_count": null,
   "id": "5dc70226",
   "metadata": {},
   "outputs": [],
   "source": []
  },
  {
   "cell_type": "code",
   "execution_count": null,
   "id": "181e1e96",
   "metadata": {},
   "outputs": [],
   "source": []
  }
 ],
 "metadata": {
  "kernelspec": {
   "display_name": "Python 3 (ipykernel)",
   "language": "python",
   "name": "python3"
  },
  "language_info": {
   "codemirror_mode": {
    "name": "ipython",
    "version": 3
   },
   "file_extension": ".py",
   "mimetype": "text/x-python",
   "name": "python",
   "nbconvert_exporter": "python",
   "pygments_lexer": "ipython3",
   "version": "3.10.9"
  }
 },
 "nbformat": 4,
 "nbformat_minor": 5
}
