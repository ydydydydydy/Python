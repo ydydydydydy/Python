{
 "cells": [
  {
   "cell_type": "code",
   "execution_count": 54,
   "id": "c14f9b48",
   "metadata": {},
   "outputs": [],
   "source": [
    "from selenium import webdriver as wb\n",
    "from selenium.webdriver.common.by import By\n",
    "from selenium.webdriver.common.keys import Keys\n"
   ]
  },
  {
   "cell_type": "code",
   "execution_count": 55,
   "id": "9f4ab4c8",
   "metadata": {},
   "outputs": [],
   "source": [
    "# 1. 브라우저를 실행하고 한솥사이트로 이동\n",
    "driver = wb.Chrome()\n",
    "driver.get(\"https://www.hsd.co.kr/menu/menu_list\")"
   ]
  },
  {
   "cell_type": "code",
   "execution_count": 56,
   "id": "ed01b3bd",
   "metadata": {
    "collapsed": true
   },
   "outputs": [
    {
     "name": "stdout",
     "output_type": "stream",
     "text": [
      "오리 영양도시락\n",
      "통살 오징어튀김\n",
      "열무 감초고추장 비빔밥\n",
      "열무 두부강된장 비빔밥\n",
      "[8월할인메뉴] 토네이도 소세지\n",
      "[8월할인메뉴] 토핑-계란후라이\n",
      "[8월할인메뉴] 치킨2조각\n",
      "[8월할인메뉴] 토핑-스팸\n",
      "[8월할인메뉴] 빅치킨마요\n",
      "[8월할인메뉴] 치킨마요\n",
      "[8월할인메뉴] 카츠카츠 도시락\n",
      "[8월할인메뉴] 핫 치즈 닭갈비 덮밥\n",
      "[8월할인메뉴] 오리지널 치즈 닭갈비 덮밥\n",
      "[8월할인메뉴] 돈까스도련님 고기고기\n",
      "[8월행사메뉴] 숯불직화구이 덮밥\n",
      "[8월할인메뉴] 진달래\n",
      "[8월할인메뉴] 통현미 닭강정(소)\n",
      "[8월할인메뉴] 스팸 김치볶음밥\n"
     ]
    }
   ],
   "source": [
    "# 2. 상품이름 수집\n",
    "title = driver.find_elements(By.CSS_SELECTOR, \".h.fz_03\")\n",
    "for i in title :\n",
    "    print(i.text)"
   ]
  },
  {
   "cell_type": "code",
   "execution_count": 57,
   "id": "93d5aee8",
   "metadata": {
    "collapsed": true
   },
   "outputs": [
    {
     "name": "stdout",
     "output_type": "stream",
     "text": [
      "6,900\n",
      "2,900\n",
      "4,500\n",
      "4,900\n",
      "1,000\n",
      "800\n",
      "1,300\n",
      "800\n",
      "3,600\n",
      "3,000\n",
      "3,900\n",
      "4,900\n",
      "4,900\n",
      "5,500\n",
      "4,900\n",
      "6,700\n",
      "2,900\n",
      "3,900\n"
     ]
    }
   ],
   "source": [
    "# 3. 상품가격 수집\n",
    "price = driver.find_elements(By.CSS_SELECTOR,\" div > div.item-text > div > strong\")\n",
    "for i in price :\n",
    "    print(i.text)"
   ]
  },
  {
   "cell_type": "code",
   "execution_count": 58,
   "id": "b74eff07",
   "metadata": {},
   "outputs": [
    {
     "data": {
      "text/plain": [
       "18"
      ]
     },
     "execution_count": 58,
     "metadata": {},
     "output_type": "execute_result"
    }
   ],
   "source": [
    "len(title)"
   ]
  },
  {
   "cell_type": "code",
   "execution_count": 59,
   "id": "16680a3d",
   "metadata": {},
   "outputs": [],
   "source": [
    "# 더보기 버튼 클릭\n",
    "# 더보기를 클릭해야 최신의 데이터를 받아올 수 있다.\n",
    "btn = driver.find_element(By.CSS_SELECTOR, \".c_05\")\n",
    "btn.click()"
   ]
  },
  {
   "cell_type": "code",
   "execution_count": 60,
   "id": "db934fda",
   "metadata": {},
   "outputs": [],
   "source": [
    "# 더보기를 끝까지 반복\n",
    "for i in range(15):\n",
    "    btn = driver.find_element(By.CSS_SELECTOR, \".c_05\")\n",
    "    btn.click()"
   ]
  },
  {
   "cell_type": "markdown",
   "id": "6f18737c",
   "metadata": {},
   "source": [
    "### 예외처리\n",
    "- 코드를 실행하다가 에러가 나는 경우 에러가 아닌 다른 코드를 실행 \n",
    "- try = 에러가 나기 전까지 실행할 코드\n",
    "- except = 에러가 났을 때 실행할 코드"
   ]
  },
  {
   "cell_type": "code",
   "execution_count": null,
   "id": "2bba60ab",
   "metadata": {},
   "outputs": [],
   "source": [
    "# 셀레니움을 통해서 요청을 보낼때는 사람처럼 코드를 짜기\n",
    "# 컴퓨터는 요청을 매우 빠르게 처리하기 때문에\n",
    "# 클라이언트가 서버에게 무리한 요청을 하면 서버는 부하를 느낌 -> 아이피 차단, 반응하기 전 오류가 남\n",
    "# time.sleep(\"초\") -> 해당하는 시간만큼 코드가 멈춘다\n",
    "# 반드시 요청과 응답이 있는 경우에 사용하는 걸 권장\n",
    "import time "
   ]
  },
  {
   "cell_type": "code",
   "execution_count": 61,
   "id": "ac31d3f0",
   "metadata": {},
   "outputs": [
    {
     "name": "stdout",
     "output_type": "stream",
     "text": [
      "더보기가 없습니다.\n"
     ]
    }
   ],
   "source": [
    "try :\n",
    "    # 에러가 나기 전까지 실행할 코드\n",
    "    for i in range(15):\n",
    "        btn = driver.find_element(By.CSS_SELECTOR, \".c_05\")\n",
    "        btn.click()\n",
    "        time.sleep(3)\n",
    "except :\n",
    "    # 에러가 났을 때 실행할 코드\n",
    "    print(\"더보기가 없습니다.\")"
   ]
  },
  {
   "cell_type": "code",
   "execution_count": 62,
   "id": "5955c549",
   "metadata": {},
   "outputs": [
    {
     "data": {
      "text/plain": [
       "367"
      ]
     },
     "execution_count": 62,
     "metadata": {},
     "output_type": "execute_result"
    }
   ],
   "source": [
    "title = driver.find_elements(By.CSS_SELECTOR, \".h.fz_03\")\n",
    "len(title)"
   ]
  },
  {
   "cell_type": "code",
   "execution_count": 63,
   "id": "cf2206e5",
   "metadata": {},
   "outputs": [
    {
     "ename": "IndexError",
     "evalue": "list index out of range",
     "output_type": "error",
     "traceback": [
      "\u001b[1;31m---------------------------------------------------------------------------\u001b[0m",
      "\u001b[1;31mIndexError\u001b[0m                                Traceback (most recent call last)",
      "Cell \u001b[1;32mIn[63], line 6\u001b[0m\n\u001b[0;32m      4\u001b[0m \u001b[38;5;28;01mfor\u001b[39;00m i \u001b[38;5;129;01min\u001b[39;00m \u001b[38;5;28mrange\u001b[39m(\u001b[38;5;28mlen\u001b[39m(title)) :\n\u001b[0;32m      5\u001b[0m     title_list\u001b[38;5;241m.\u001b[39mappend(title[i]\u001b[38;5;241m.\u001b[39mtext)\n\u001b[1;32m----> 6\u001b[0m     price_list\u001b[38;5;241m.\u001b[39mappend(\u001b[43mprice\u001b[49m\u001b[43m[\u001b[49m\u001b[43mi\u001b[49m\u001b[43m]\u001b[49m\u001b[38;5;241m.\u001b[39mtext)\n",
      "\u001b[1;31mIndexError\u001b[0m: list index out of range"
     ]
    }
   ],
   "source": [
    "# 수집된 요소를 텍스트 데이터만 추출\n",
    "title_list = []\n",
    "price_list = []\n",
    "for i in range(len(title)) :\n",
    "    title_list.append(title[i].text)\n",
    "    price_list.append(price[i].text)"
   ]
  },
  {
   "cell_type": "markdown",
   "id": "6b0c3772",
   "metadata": {},
   "source": [
    "### 한셀에 코드 합치기\n",
    "- 프로그램(실행파일) 제작할 때는 반드시 코드를 한셀에 합쳐야 한다"
   ]
  },
  {
   "cell_type": "code",
   "execution_count": 65,
   "id": "6394245a",
   "metadata": {},
   "outputs": [
    {
     "name": "stdout",
     "output_type": "stream",
     "text": [
      "더보기가 없습니다.\n"
     ]
    }
   ],
   "source": [
    "from selenium import webdriver as wb\n",
    "from selenium.webdriver.common.by import By\n",
    "from selenium.webdriver.common.keys import Keys\n",
    "import time\n",
    "import pandas as pd\n",
    "\n",
    "driver = wb.Chrome()\n",
    "driver.get(\"https://www.hsd.co.kr/menu/menu_list\")\n",
    "\n",
    "try :\n",
    "    # 에러가 나기 전까지 실행할 코드\n",
    "    for i in range(15):\n",
    "        btn = driver.find_element(By.CSS_SELECTOR, \".c_05\")\n",
    "        btn.click()\n",
    "        time.sleep(3)\n",
    "except :\n",
    "    # 에러가 났을 때 실행할 코드\n",
    "    print(\"더보기가 없습니다.\")\n",
    "# -- 데이터 준비 단계 --\n",
    "    \n",
    "title = driver.find_elements(By.CSS_SELECTOR, \".h.fz_03\")\n",
    "price = driver.find_elements(By.CSS_SELECTOR, \"div > div.item-text > div > strong\")\n",
    "# -- 데이터 수집 단계 --\n",
    "\n",
    "title_list = []\n",
    "price_list = []\n",
    "for i in range(len(title)) :\n",
    "    title_list.append(title[i].text)\n",
    "    price_list.append(price[i].text)\n",
    "# -- 데이터 가공 단계 --\n",
    "\n",
    "dic = {\"상품명\" : title_list, \"가격정보\" : price_list}\n",
    "pd.DataFrame(dic)\n",
    "hansot = pd.DataFrame(dic)\n",
    "hansot.to_csv(\"한솥.csv\",encoding=\"euc-kr\")\n",
    "# -- 데이터 활용 단계 ---"
   ]
  },
  {
   "cell_type": "markdown",
   "id": "7713ac7b",
   "metadata": {},
   "source": [
    "### 크롤링하는 프로세스\n",
    "- 데이터 준비, 데이터 수집, 데이터 가공, 데이터 활용\n",
    "- 데이터 준비 = 완벽한 데이터를 수집하기 위해서 화면 준비를 하는 단계 (더보기 버튼을 다 누르는 행위, 화면 스크롤을 최하단까지 이동)\n",
    "- 데이터 수집 = 준비된 데이터(html)에서 필요한 요소를 수집\n",
    "- 데이트 가공 = 수집된 데이터(요소)를 필요한 컨텐츠, 속성만 가공\n",
    "- 데이터 활용 = 가공된 데이터를 표, 파일로 제작"
   ]
  },
  {
   "cell_type": "markdown",
   "id": "6dac96ad",
   "metadata": {},
   "source": [
    "### 크롤링 팁\n",
    "- 반드시 selenium을 활용할 때는 'Cell Run All' 금지!\n",
    "- 항상 사람처럼 코딩 작성\n",
    "- 요청과 응답 사이에는 반드시 시간을 부여\n",
    "- tip!\n",
    "- time.sleep vs implicitly_wait\n",
    "- time : 무조건 내가 설정한 시간만큼 코드를 중단\n",
    "- implicitly_wait : 설정한 시간보다 완료된 시간이 짧으면 완료가 된 기점으로 코드가 진행 -> 네크워크 환경이 좋을 때는 장점"
   ]
  }
 ],
 "metadata": {
  "kernelspec": {
   "display_name": "Python 3 (ipykernel)",
   "language": "python",
   "name": "python3"
  },
  "language_info": {
   "codemirror_mode": {
    "name": "ipython",
    "version": 3
   },
   "file_extension": ".py",
   "mimetype": "text/x-python",
   "name": "python",
   "nbconvert_exporter": "python",
   "pygments_lexer": "ipython3",
   "version": "3.10.9"
  }
 },
 "nbformat": 4,
 "nbformat_minor": 5
}
