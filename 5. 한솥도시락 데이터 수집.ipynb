{
 "cells": [
  {
   "cell_type": "code",
   "execution_count": 4,
   "id": "7538b7a6",
   "metadata": {},
   "outputs": [],
   "source": [
    "from selenium import webdriver as wb\n",
    "from selenium.webdriver.common.by import By\n",
    "from selenium.webdriver.common.keys import Keys"
   ]
  },
  {
   "cell_type": "code",
   "execution_count": 5,
   "id": "051f3093",
   "metadata": {},
   "outputs": [],
   "source": [
    "# 1. 브라우저를 실행하고 한솥사이트로 이동\n",
    "driver = wb.Chrome()\n",
    "driver.get(\"https://www.hsd.co.kr/menu/menu_list\")"
   ]
  },
  {
   "cell_type": "code",
   "execution_count": 7,
   "id": "9e5e3e7a",
   "metadata": {},
   "outputs": [
    {
     "name": "stdout",
     "output_type": "stream",
     "text": [
      "오리 영양도시락\n",
      "통살 오징어튀김\n",
      "열무 감초고추장 비빔밥\n",
      "열무 두부강된장 비빔밥\n",
      "[8월할인메뉴] 토네이도 소세지\n",
      "[8월할인메뉴] 토핑-계란후라이\n",
      "[8월할인메뉴] 치킨2조각\n",
      "[8월할인메뉴] 토핑-스팸\n",
      "[8월할인메뉴] 빅치킨마요\n",
      "[8월할인메뉴] 치킨마요\n",
      "[8월할인메뉴] 카츠카츠 도시락\n",
      "[8월할인메뉴] 핫 치즈 닭갈비 덮밥\n",
      "[8월할인메뉴] 오리지널 치즈 닭갈비 덮밥\n",
      "[8월할인메뉴] 돈까스도련님 고기고기\n",
      "[8월행사메뉴] 숯불직화구이 덮밥\n",
      "[8월할인메뉴] 진달래\n",
      "[8월할인메뉴] 통현미 닭강정(소)\n",
      "[8월할인메뉴] 스팸 김치볶음밥\n"
     ]
    }
   ],
   "source": [
    "# 2. 상품이름 수집\n",
    "title = driver.find_elements(By.CSS_SELECTOR, \".h.fz_03\")\n",
    "for i in title :\n",
    "    print(i.text)"
   ]
  },
  {
   "cell_type": "code",
   "execution_count": null,
   "id": "d1397031",
   "metadata": {},
   "outputs": [],
   "source": [
    "# 3. 상품가격 수집"
   ]
  },
  {
   "cell_type": "code",
   "execution_count": null,
   "id": "8d97503f",
   "metadata": {},
   "outputs": [],
   "source": []
  },
  {
   "cell_type": "code",
   "execution_count": null,
   "id": "aa2f35ce",
   "metadata": {},
   "outputs": [],
   "source": []
  },
  {
   "cell_type": "code",
   "execution_count": null,
   "id": "85704753",
   "metadata": {},
   "outputs": [],
   "source": []
  }
 ],
 "metadata": {
  "kernelspec": {
   "display_name": "Python 3 (ipykernel)",
   "language": "python",
   "name": "python3"
  },
  "language_info": {
   "codemirror_mode": {
    "name": "ipython",
    "version": 3
   },
   "file_extension": ".py",
   "mimetype": "text/x-python",
   "name": "python",
   "nbconvert_exporter": "python",
   "pygments_lexer": "ipython3",
   "version": "3.10.9"
  }
 },
 "nbformat": 4,
 "nbformat_minor": 5
}
